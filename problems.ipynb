{
 "cells": [
  {
   "cell_type": "code",
   "execution_count": 3,
   "metadata": {},
   "outputs": [],
   "source": [
    "import numpy as np\n",
    "import random\n",
    "import math"
   ]
  },
  {
   "cell_type": "code",
   "execution_count": 4,
   "metadata": {},
   "outputs": [],
   "source": [
    "choice_letters = \"ABCDEFGHIJKLMNOPQRSTUVWXYZ\"\n",
    "choice_letters = \"აბგდევზთიკლმნოპჟრსტუფქღყშჩცძწჭხჯჰ\"\n",
    "\n",
    "class MultipleChoice:\n",
    "    def __init__(self, n_answers=4):\n",
    "        self.n_answers = n_answers\n",
    "        self.keys = []\n",
    "        self.correct_answer = 0\n",
    "        self.wrong_answers = range(1, n_answers)\n",
    "\n",
    "    def generate_text(self):\n",
    "        return \"\"\n",
    "\n",
    "    def generate_multiple_choices(self):\n",
    "        all_answers = [self.correct_answer, *self.wrong_answers]\n",
    "        random.shuffle(all_answers)\n",
    "        multiple_choices = {}\n",
    "        correct_choice = \"\"\n",
    "        for i,a in enumerate(all_answers):\n",
    "            multiple_choices[choice_letters[i]] = a\n",
    "            if a == self.correct_answer:\n",
    "                correct_choice = choice_letters[i]\n",
    "        return multiple_choices, correct_choice\n",
    "\n",
    "    def generate_text_and_choices(self):\n",
    "        t = self.generate_text()\n",
    "        mc, c = self.generate_multiple_choices()\n",
    "        return {\n",
    "            \"საკითხები\": self.keys,\n",
    "            \"ტექსტი\": t,\n",
    "            \"სავარაუდო პასუხები\": mc,\n",
    "            \"სწორი პასუხი\": c,\n",
    "        }"
   ]
  },
  {
   "cell_type": "code",
   "execution_count": 5,
   "metadata": {},
   "outputs": [],
   "source": [
    "class OpenPolygon1(MultipleChoice):\n",
    "    def __init__(self, n_points=4, n_dimension=2, n_answers=4):\n",
    "        super().__init__(n_answers=n_answers)\n",
    "        self.keys = [\"GEO2D-2.2\"]\n",
    "        self.n_points = n_points\n",
    "        self.n_dimension = n_dimension\n",
    "        self.n_answers = n_answers\n",
    "        self.randomize()\n",
    "        self.correct_answer = self.calculate_answer()\n",
    "        self.wrong_answers = self.generate_wrong_answers()\n",
    "\n",
    "    def randomize(self):\n",
    "        self.points = []\n",
    "        for i in range(self.n_points):\n",
    "            p = tuple([np.random.randint(-20, 20) for d in range(self.n_dimension)])\n",
    "            while p in self.points:\n",
    "                p = tuple([np.random.randint(-20, 20) for d in range(self.n_dimension)])\n",
    "            self.points.append(p)\n",
    "\n",
    "    def generate_text(self):\n",
    "        return \"მოცემულია ტეხილი, რომელიც გადის წერტილებზე: \" + \", \".join(str(p) for p in self.points) + \". რისი ტოლია ტეხილის სრული სიგრძე?\"\n",
    "\n",
    "    def calculate_answer(self):\n",
    "        result = 0\n",
    "        for i in range(len(self.points) - 1):\n",
    "            p_i = np.array(self.points[i])\n",
    "            p_ip1 = np.array(self.points[i+1])\n",
    "            distance = np.round(np.sqrt(np.sum((p_i - p_ip1)**2)),1)\n",
    "            result += distance\n",
    "\n",
    "        return np.round(result, 1)\n",
    "    \n",
    "    def generate_wrong_answers(self):\n",
    "        answers = []\n",
    "        for i in range(self.n_answers-1):\n",
    "            wrong_answer = self.correct_answer + np.random.choice([-1,1]) * np.random.randint(10,200) / 10.0\n",
    "            while wrong_answer in answers:\n",
    "                wrong_answer = self.correct_answer + np.random.choice([-1,1]) * np.random.randint(10,200) / 10.0\n",
    "            answers.append(np.round(wrong_answer,1))\n",
    "        return answers\n"
   ]
  },
  {
   "cell_type": "code",
   "execution_count": 6,
   "metadata": {},
   "outputs": [
    {
     "data": {
      "text/plain": [
       "{'საკითხები': ['GEO2D-2.2'],\n",
       " 'ტექსტი': 'მოცემულია ტეხილი, რომელიც გადის წერტილებზე: (7, 1), (-15, 5), (-17, -15). რისი ტოლია ტეხილის სრული სიგრძე?',\n",
       " 'სავარაუდო პასუხები': {'ა': 27.7, 'ბ': 28.2, 'გ': 25.1, 'დ': 42.5},\n",
       " 'სწორი პასუხი': 'დ'}"
      ]
     },
     "execution_count": 6,
     "metadata": {},
     "output_type": "execute_result"
    }
   ],
   "source": [
    "OP1 = OpenPolygon1(3, 2, n_answers=4)\n",
    "OP1.generate_text_and_choices()\n"
   ]
  },
  {
   "cell_type": "code",
   "execution_count": 7,
   "metadata": {},
   "outputs": [],
   "source": [
    "def prime_factorization(n):\n",
    "        factors = []\n",
    "        divisor = 2\n",
    "\n",
    "        while n > 1:\n",
    "            while n % divisor == 0:\n",
    "                factors.append(divisor)\n",
    "                n //= divisor\n",
    "            divisor += 1\n",
    "\n",
    "        return factors\n",
    "\n",
    "class PrimeFactors1(MultipleChoice):\n",
    "    def __init__(self, n_maximum=1000, n_answers=4):\n",
    "        super().__init__(n_answers=n_answers)\n",
    "        self.keys = [\"ALGEBRA-2.2\"]\n",
    "        self.n_maximum = n_maximum\n",
    "        self.randomize()\n",
    "        self.correct_answer = self.calculate_answer()\n",
    "        self.wrong_answers = self.generate_wrong_answers()\n",
    "\n",
    "    def randomize(self):\n",
    "        self.number = np.random.randint(2, self.n_maximum)\n",
    "        \n",
    "    def calculate_answer(self):\n",
    "        return \", \".join(str(pf) for pf in prime_factorization(self.number))\n",
    "    \n",
    "    def generate_text(self):\n",
    "        return f\"დაშალეთ {self.number} მარტივ მამრავლებად.\"\n",
    "    \n",
    "    def generate_wrong_answers(self):\n",
    "        numbers = []\n",
    "        answers = []\n",
    "        for i in range(self.n_answers-1):\n",
    "            wrong_number = self.number + np.random.choice([-1,1]) * np.random.randint(10,200)\n",
    "            while wrong_number in numbers or len(prime_factorization(wrong_number)) == 1:\n",
    "                wrong_number = self.number + np.random.choice([-1,1]) * np.random.randint(10,200)\n",
    "                \n",
    "            numbers.append(wrong_number)\n",
    "            answers.append(\", \".join(str(pf) for pf in prime_factorization(wrong_number)))\n",
    "            \n",
    "        return answers"
   ]
  },
  {
   "cell_type": "code",
   "execution_count": 8,
   "metadata": {},
   "outputs": [
    {
     "data": {
      "text/plain": [
       "{'საკითხები': ['ALGEBRA-2.2'],\n",
       " 'ტექსტი': 'დაშალეთ 76 მარტივ მამრავლებად.',\n",
       " 'სავარაუდო პასუხები': {'ა': '',\n",
       "  'ბ': '2, 2, 19',\n",
       "  'გ': '7, 13',\n",
       "  'დ': '2, 2, 5, 13'},\n",
       " 'სწორი პასუხი': 'ბ'}"
      ]
     },
     "execution_count": 8,
     "metadata": {},
     "output_type": "execute_result"
    }
   ],
   "source": [
    "PF1 = PrimeFactors1()\n",
    "PF1.generate_text_and_choices()\n"
   ]
  },
  {
   "cell_type": "code",
   "execution_count": 9,
   "metadata": {},
   "outputs": [],
   "source": [
    "class GreatestCommonDivisor1(MultipleChoice):\n",
    "    def __init__(self, n_maximum=200, n_answers=4):\n",
    "        super().__init__(n_answers=n_answers)\n",
    "        self.keys = [\"ALGEBRA-2.3\"]\n",
    "        self.n_maximum = n_maximum\n",
    "        self.randomize()\n",
    "        self.correct_answer = self.calculate_answer()\n",
    "        self.wrong_answers = self.generate_wrong_answers()\n",
    "\n",
    "    def randomize(self):\n",
    "        self.a = np.random.randint(2, self.n_maximum)\n",
    "        self.b = np.random.randint(2, self.n_maximum)\n",
    "        while self.a == self.b:\n",
    "            self.b = np.random.randint(2, self.n_maximum)\n",
    "\n",
    "        \n",
    "    def calculate_answer(self):\n",
    "        return np.math.gcd(self.a, self.b)\n",
    "    \n",
    "    def generate_text(self):\n",
    "        return f\"იპოვეთ {self.a} და {self.b} რიცხვების უდიდესი საერთო გამყოფი.\"\n",
    "    \n",
    "    def generate_wrong_answers(self):\n",
    "        answers = []\n",
    "        for i in range(self.n_answers-1):\n",
    "            wrong_number = np.random.randint(1, min(self.a, self.b))\n",
    "            while wrong_number in answers or wrong_number == self.correct_answer:\n",
    "                wrong_number = np.random.randint(1, min(self.a, self.b))\n",
    "                \n",
    "            answers.append(wrong_number)\n",
    "            \n",
    "        return answers"
   ]
  },
  {
   "cell_type": "code",
   "execution_count": 10,
   "metadata": {},
   "outputs": [
    {
     "data": {
      "text/plain": [
       "{'საკითხები': ['ALGEBRA-2.3'],\n",
       " 'ტექსტი': 'იპოვეთ 62 და 122 რიცხვების უდიდესი საერთო გამყოფი.',\n",
       " 'სავარაუდო პასუხები': {'ა': 36, 'ბ': 42, 'გ': 52, 'დ': 2},\n",
       " 'სწორი პასუხი': 'დ'}"
      ]
     },
     "execution_count": 10,
     "metadata": {},
     "output_type": "execute_result"
    }
   ],
   "source": [
    "GCD1 = GreatestCommonDivisor1()\n",
    "GCD1.generate_text_and_choices()"
   ]
  },
  {
   "cell_type": "code",
   "execution_count": 11,
   "metadata": {},
   "outputs": [],
   "source": [
    "class LowestCommonMultiple1(MultipleChoice):\n",
    "    def __init__(self, n_maximum=200, n_answers=4):\n",
    "        super().__init__(n_answers=n_answers)\n",
    "        self.keys = [\"ALGEBRA-2.3\"]\n",
    "        self.n_maximum = n_maximum\n",
    "        self.randomize()\n",
    "        self.correct_answer = self.calculate_answer()\n",
    "        self.wrong_answers = self.generate_wrong_answers()\n",
    "\n",
    "    def randomize(self):\n",
    "        self.a = np.random.randint(2, self.n_maximum)\n",
    "        self.b = np.random.randint(2, self.n_maximum)\n",
    "        while self.a == self.b:\n",
    "            self.b = np.random.randint(2, self.n_maximum)\n",
    "\n",
    "        \n",
    "    def calculate_answer(self):\n",
    "        return np.math.lcm(self.a, self.b)\n",
    "    \n",
    "    def generate_text(self):\n",
    "        return f\"იპოვეთ {self.a} და {self.b} რიცხვების უმცირესი საერთო ჯერადი.\"\n",
    "    \n",
    "    def generate_wrong_answers(self):\n",
    "        answers = []\n",
    "        for i in range(self.n_answers-1):\n",
    "            wrong_number = np.random.randint(max(self.a, self.b), self.a * self.b + 1)\n",
    "            while wrong_number in answers or wrong_number == self.correct_answer:\n",
    "                wrong_number = np.random.randint(max(self.a, self.b), self.a * self.b + 1)\n",
    "                \n",
    "            answers.append(wrong_number)\n",
    "            \n",
    "        return answers"
   ]
  },
  {
   "cell_type": "code",
   "execution_count": 12,
   "metadata": {},
   "outputs": [
    {
     "data": {
      "text/plain": [
       "{'საკითხები': ['ALGEBRA-2.3'],\n",
       " 'ტექსტი': 'იპოვეთ 31 და 153 რიცხვების უმცირესი საერთო ჯერადი.',\n",
       " 'სავარაუდო პასუხები': {'ა': 4574, 'ბ': 4743, 'გ': 872, 'დ': 4272},\n",
       " 'სწორი პასუხი': 'ბ'}"
      ]
     },
     "execution_count": 12,
     "metadata": {},
     "output_type": "execute_result"
    }
   ],
   "source": [
    "LCM1 = LowestCommonMultiple1()\n",
    "LCM1.generate_text_and_choices()"
   ]
  },
  {
   "cell_type": "code",
   "execution_count": 13,
   "metadata": {},
   "outputs": [],
   "source": [
    "class MakeDivisible1(MultipleChoice):\n",
    "    def __init__(self, n_maximum=1000, n_answers=4):\n",
    "        super().__init__(n_answers=n_answers)\n",
    "        self.keys = [\"ALGEBRA-2.4\"]\n",
    "        self.n_maximum = n_maximum\n",
    "        self.randomize()\n",
    "        self.correct_answer = self.calculate_answer()\n",
    "        self.wrong_answers = self.generate_wrong_answers()\n",
    "\n",
    "    def randomize(self):\n",
    "        self.a = np.random.randint(2, self.n_maximum)\n",
    "        self.b = np.random.choice([2, 3, 4, 5, 6, 8, 9, 10])\n",
    "        while self.a <= self.b:\n",
    "            self.a = np.random.randint(2, self.n_maximum)\n",
    "\n",
    "        \n",
    "    def calculate_answer(self):\n",
    "        return self.a % self.b\n",
    "    \n",
    "    def generate_text(self):\n",
    "        return f\"რა უმცირესი ნატურალური რიცხვი უნდა დავუმატოთ {self.a}-ს, რომ მიღებული შედეგი უნაშთოდ იყოფოდეს {self.b}-ზე?\"\n",
    "    \n",
    "    def generate_wrong_answers(self):\n",
    "        answers = []\n",
    "        for i in range(self.n_answers-1):\n",
    "            wrong_number = np.random.randint(10)\n",
    "            while wrong_number in answers or wrong_number == self.correct_answer:\n",
    "                wrong_number = np.random.randint(10)\n",
    "                \n",
    "            answers.append(wrong_number)\n",
    "            \n",
    "        return answers"
   ]
  },
  {
   "cell_type": "code",
   "execution_count": 14,
   "metadata": {},
   "outputs": [
    {
     "data": {
      "text/plain": [
       "{'საკითხები': ['ALGEBRA-2.4'],\n",
       " 'ტექსტი': 'რა უმცირესი ნატურალური რიცხვი უნდა დავუმატოთ 639-ს, რომ მიღებული შედეგი უნაშთოდ იყოფოდეს 5-ზე?',\n",
       " 'სავარაუდო პასუხები': {'ა': 7, 'ბ': 6, 'გ': 4, 'დ': 5},\n",
       " 'სწორი პასუხი': 'გ'}"
      ]
     },
     "execution_count": 14,
     "metadata": {},
     "output_type": "execute_result"
    }
   ],
   "source": [
    "MD1 = MakeDivisible1()\n",
    "MD1.generate_text_and_choices()"
   ]
  },
  {
   "cell_type": "code",
   "execution_count": 15,
   "metadata": {},
   "outputs": [],
   "source": [
    "class MakeRemainder1(MultipleChoice):\n",
    "    def __init__(self, n_maximum=1000, n_answers=4):\n",
    "        super().__init__(n_answers=n_answers)\n",
    "        self.keys = [\"ALGEBRA-2.4\", \"ALGEBRA-2.5\"]\n",
    "        self.n_maximum = n_maximum\n",
    "        self.randomize()\n",
    "        self.correct_answer = self.calculate_answer()\n",
    "        self.wrong_answers = self.generate_wrong_answers()\n",
    "\n",
    "    def randomize(self):\n",
    "        self.a = np.random.randint(2, self.n_maximum)\n",
    "        self.b = np.random.choice([2, 3, 4, 5, 6, 8, 9, 10])\n",
    "        self.c = np.random.randint(self.b)\n",
    "        while self.a <= self.b:\n",
    "            self.a = np.random.randint(2, self.n_maximum)\n",
    "\n",
    "        \n",
    "    def calculate_answer(self):\n",
    "        return (self.c - self.a % self.b) % self.b\n",
    "    \n",
    "    def generate_text(self):\n",
    "        return f\"რა უმცირესი ნატურალური რიცხვი უნდა დავუმატოთ {self.a}-ს, რომ მიღებული შედეგის {self.b}-ზე გაყოფისას მიღებული ნაშთი იყოს {self.c}?\"\n",
    "    \n",
    "    def generate_wrong_answers(self):\n",
    "        answers = []\n",
    "        for i in range(self.n_answers-1):\n",
    "            wrong_number = np.random.randint(10)\n",
    "            while wrong_number in answers or wrong_number == self.correct_answer:\n",
    "                wrong_number = np.random.randint(10)\n",
    "            answers.append(wrong_number)\n",
    "            \n",
    "        return answers"
   ]
  },
  {
   "cell_type": "code",
   "execution_count": 16,
   "metadata": {},
   "outputs": [
    {
     "data": {
      "text/plain": [
       "{'საკითხები': ['ALGEBRA-2.4', 'ALGEBRA-2.5'],\n",
       " 'ტექსტი': 'რა უმცირესი ნატურალური რიცხვი უნდა დავუმატოთ 728-ს, რომ მიღებული შედეგის 3-ზე გაყოფისას მიღებული ნაშთი იყოს 1?',\n",
       " 'სავარაუდო პასუხები': {'ა': 2, 'ბ': 1, 'გ': 5, 'დ': 4},\n",
       " 'სწორი პასუხი': 'ა'}"
      ]
     },
     "execution_count": 16,
     "metadata": {},
     "output_type": "execute_result"
    }
   ],
   "source": [
    "MR1 = MakeRemainder1()\n",
    "MR1.generate_text_and_choices()"
   ]
  },
  {
   "cell_type": "code",
   "execution_count": 17,
   "metadata": {},
   "outputs": [],
   "source": [
    "class DecimalToBinary1(MultipleChoice):\n",
    "    def __init__(self, n_maximum=500, n_answers=4):\n",
    "        super().__init__(n_answers=n_answers)\n",
    "        self.keys = [\"ALGEBRA-9.1\"]\n",
    "        self.n_maximum = n_maximum\n",
    "        self.randomize()\n",
    "        self.correct_answer = self.calculate_answer()\n",
    "        self.wrong_answers = self.generate_wrong_answers()\n",
    "\n",
    "    def randomize(self):\n",
    "        self.number = np.random.randint(1, self.n_maximum)\n",
    "        \n",
    "    def calculate_answer(self):\n",
    "        return bin(self.number)[2:]\n",
    "    \n",
    "    def generate_text(self):\n",
    "        return f\"წარმოადგინეთ {self.number} ორობით სისტემაში.\"\n",
    "    \n",
    "    def generate_wrong_answers(self):\n",
    "        numbers = []\n",
    "        answers = []\n",
    "        for i in range(self.n_answers-1):\n",
    "            wrong_number = np.random.randint(0, self.n_maximum)\n",
    "            while wrong_number in numbers or wrong_number == self.number:\n",
    "                wrong_number = np.random.randint(0, self.n_maximum)\n",
    "                \n",
    "            numbers.append(wrong_number)\n",
    "            answers.append(bin(wrong_number)[2:])\n",
    "            \n",
    "        return answers"
   ]
  },
  {
   "cell_type": "code",
   "execution_count": 18,
   "metadata": {},
   "outputs": [
    {
     "data": {
      "text/plain": [
       "{'საკითხები': ['ALGEBRA-9.1'],\n",
       " 'ტექსტი': 'წარმოადგინეთ 140 ორობით სისტემაში.',\n",
       " 'სავარაუდო პასუხები': {'ა': '100011011',\n",
       "  'ბ': '10001100',\n",
       "  'გ': '101011101',\n",
       "  'დ': '100110110'},\n",
       " 'სწორი პასუხი': 'ბ'}"
      ]
     },
     "execution_count": 18,
     "metadata": {},
     "output_type": "execute_result"
    }
   ],
   "source": [
    "DTB1 = DecimalToBinary1()\n",
    "DTB1.generate_text_and_choices()"
   ]
  },
  {
   "cell_type": "code",
   "execution_count": 19,
   "metadata": {},
   "outputs": [],
   "source": [
    "class BinaryToDecimal1(MultipleChoice):\n",
    "    def __init__(self, n_maximum=500, n_answers=4):\n",
    "        super().__init__(n_answers=n_answers)\n",
    "        self.keys = [\"ALGEBRA-9.1\"]\n",
    "        self.n_maximum = n_maximum\n",
    "        self.randomize()\n",
    "        self.correct_answer = self.calculate_answer()\n",
    "        self.wrong_answers = self.generate_wrong_answers()\n",
    "\n",
    "    def randomize(self):\n",
    "        self.number = np.random.randint(1, self.n_maximum)\n",
    "        self.number_binary = bin(self.number)[2:]\n",
    "        \n",
    "    def calculate_answer(self):\n",
    "        return self.number\n",
    "    \n",
    "    def generate_text(self):\n",
    "        return f\"წარმოადგინეთ ორობით სისტემაში ჩაწერილი რიცხვი {self.number_binary} ათობით სისტემაში.\"\n",
    "    \n",
    "    def generate_wrong_answers(self):\n",
    "        numbers = []\n",
    "        for i in range(self.n_answers-1):\n",
    "            wrong_number = np.random.randint(0, self.n_maximum)\n",
    "            while wrong_number in numbers or wrong_number == self.number:\n",
    "                wrong_number = np.random.randint(0, self.n_maximum)\n",
    "                \n",
    "            numbers.append(wrong_number)\n",
    "            \n",
    "        return numbers"
   ]
  },
  {
   "cell_type": "code",
   "execution_count": 20,
   "metadata": {},
   "outputs": [
    {
     "data": {
      "text/plain": [
       "{'საკითხები': ['ALGEBRA-9.1'],\n",
       " 'ტექსტი': 'წარმოადგინეთ ორობით სისტემაში ჩაწერილი რიცხვი 10100 ათობით სისტემაში.',\n",
       " 'სავარაუდო პასუხები': {'ა': 20, 'ბ': 303, 'გ': 132, 'დ': 242},\n",
       " 'სწორი პასუხი': 'ა'}"
      ]
     },
     "execution_count": 20,
     "metadata": {},
     "output_type": "execute_result"
    }
   ],
   "source": [
    "BTD1 = BinaryToDecimal1()\n",
    "BTD1.generate_text_and_choices()"
   ]
  },
  {
   "cell_type": "code",
   "execution_count": 21,
   "metadata": {},
   "outputs": [
    {
     "data": {
      "text/plain": [
       "'1.234 × 10^1'"
      ]
     },
     "execution_count": 21,
     "metadata": {},
     "output_type": "execute_result"
    }
   ],
   "source": [
    "def sci_not(number, digits_before_comma = 1, digits_after_comma = 10):\n",
    "    \"\"\"Scientific notation\"\"\"\n",
    "    exponent = int(np.floor(np.log10(number)) + 1 - digits_before_comma)\n",
    "    base_exponent = 10 ** exponent\n",
    "    coefficient = np.round(number / base_exponent, digits_after_comma)\n",
    "    if coefficient % 1 == 0:\n",
    "        coefficient = int(coefficient)\n",
    "    result = f\"{coefficient}\"\n",
    "    if exponent != 0:\n",
    "        result += f\" × 10^{exponent}\"\n",
    "    return result\n",
    "\n",
    "sci_not(12.34)"
   ]
  },
  {
   "cell_type": "code",
   "execution_count": 22,
   "metadata": {},
   "outputs": [],
   "source": [
    "class ScientificNotation1(MultipleChoice):\n",
    "    def __init__(self, n_digits_before_comma=2, n_digits_after_comma=2, n_answers=4):\n",
    "        super().__init__(n_answers=n_answers)\n",
    "        self.keys = [\"ALGEBRA-4.2\", \"2022-1\", \"2022-2\"]\n",
    "        self.n_digits_before_comma = n_digits_before_comma\n",
    "        self.n_digits_after_comma = n_digits_after_comma\n",
    "        self.randomize()\n",
    "        self.correct_answer = self.calculate_answer()\n",
    "        self.wrong_answers = self.generate_wrong_answers()\n",
    "\n",
    "    def randomize(self):\n",
    "        self.number = (\n",
    "            np.random.randint(1, 10**self.n_digits_before_comma)\n",
    "            + np.random.randint(1, 10**self.n_digits_before_comma)\n",
    "            / 10**self.n_digits_after_comma\n",
    "        )\n",
    "\n",
    "    def calculate_answer(self):\n",
    "        return sci_not(self.number)\n",
    "\n",
    "    def generate_text(self):\n",
    "        return f\"{self.number} = ...\"\n",
    "\n",
    "    def generate_wrong_answers(self):\n",
    "        answers = []\n",
    "\n",
    "        for i in range(self.n_answers - 1):\n",
    "            new_factor = np.power(10, np.random.randint(1, 5))\n",
    "            if np.random.choice([True, False]):\n",
    "                new_factor = 1 / new_factor\n",
    "\n",
    "            new_number = self.number * new_factor\n",
    "            new_answer = sci_not(new_number)\n",
    "            while new_answer in answers or new_number == self.number:\n",
    "                new_factor = np.power(10, np.random.randint(1, 5))\n",
    "                if np.random.choice([True, False]):\n",
    "                    new_factor = 1 / new_factor\n",
    "\n",
    "                new_number = self.number * new_factor\n",
    "                new_answer = sci_not(new_number)\n",
    "\n",
    "            answers.append(new_answer)\n",
    "\n",
    "        return answers"
   ]
  },
  {
   "cell_type": "code",
   "execution_count": 23,
   "metadata": {},
   "outputs": [
    {
     "data": {
      "text/plain": [
       "{'საკითხები': ['ALGEBRA-4.2', '2022-1', '2022-2'],\n",
       " 'ტექსტი': '15.57 = ...',\n",
       " 'სავარაუდო პასუხები': {'ა': '1.557 × 10^1',\n",
       "  'ბ': '1.557 × 10^-2',\n",
       "  'გ': '1.557 × 10^5',\n",
       "  'დ': '1.557 × 10^-1'},\n",
       " 'სწორი პასუხი': 'ა'}"
      ]
     },
     "execution_count": 23,
     "metadata": {},
     "output_type": "execute_result"
    }
   ],
   "source": [
    "SN1 = ScientificNotation1()\n",
    "SN1.generate_text_and_choices()"
   ]
  },
  {
   "cell_type": "code",
   "execution_count": 24,
   "metadata": {},
   "outputs": [],
   "source": [
    "class Units1(MultipleChoice):\n",
    "    def __init__(self, n_maximum=500, n_answers=4):\n",
    "        super().__init__(n_answers=n_answers)\n",
    "        self.keys = [\"UNITS-1.1\"]\n",
    "        self.n_maximum = n_maximum\n",
    "        self.units = {\n",
    "            \"მმ\": 1e-3,\n",
    "            \"სმ\": 1e-2,\n",
    "            \"დმ\": 1e-1,\n",
    "            \"მ\": 1,\n",
    "            \"კმ\": 10e3,\n",
    "        }\n",
    "        self.randomize()\n",
    "        self.correct_answer = self.calculate_answer()\n",
    "        self.wrong_answers = self.generate_wrong_answers()\n",
    "\n",
    "    def random_unit(self):\n",
    "        return np.random.choice(list(self.units.keys()))\n",
    "    \n",
    "    def to_string(self, number, unit):\n",
    "        return f\"{sci_not(number)} {unit}\"\n",
    "\n",
    "    def randomize(self):\n",
    "        self.number = np.random.randint(1, self.n_maximum)\n",
    "        self.unit = self.random_unit()\n",
    "        \n",
    "    def calculate_answer(self):\n",
    "        new_unit = self.random_unit()\n",
    "        while new_unit == self.unit:\n",
    "            new_unit = self.random_unit()\n",
    "        new_number = self.number * self.units[self.unit] / self.units[new_unit]\n",
    "        return self.to_string(new_number, new_unit)\n",
    "\n",
    "    \n",
    "    def generate_text(self):\n",
    "        return f\"{self.number} {self.unit} = ...\"\n",
    "    \n",
    "    def generate_wrong_answers(self):\n",
    "        answers = []\n",
    "\n",
    "        for i in range(self.n_answers-1):\n",
    "            new_unit = self.random_unit()\n",
    "            while new_unit == self.unit:\n",
    "                new_unit = self.random_unit()\n",
    "            new_number = self.number * self.units[self.unit] / self.units[new_unit]\n",
    "            new_factor = np.power(10, np.random.randint(1,3))\n",
    "            if np.random.choice([True,False]):\n",
    "                new_factor = 1 / new_factor\n",
    "            new_number *= new_factor\n",
    "            new_answer = self.to_string(new_number, new_unit)\n",
    "            while new_answer in answers or new_number == self.number:\n",
    "                new_unit = self.random_unit()\n",
    "                while new_unit == self.unit:\n",
    "                    new_unit = self.random_unit()\n",
    "                new_number = self.number * self.units[self.unit] / self.units[new_unit]\n",
    "                new_factor = np.power(10, np.random.randint(1,3))\n",
    "                if np.random.choice([True,False]):\n",
    "                    new_factor = 1 / new_factor\n",
    "                new_number *= new_factor\n",
    "                new_answer = self.to_string(new_number, new_unit)\n",
    "                \n",
    "            answers.append(new_answer)\n",
    "            \n",
    "        return answers\n",
    "    \n",
    "\n",
    "class UnitsLength1(Units1):\n",
    "    def __init__(self, n_maximum=500, n_answers=4):\n",
    "        super().__init__(n_maximum=n_maximum, n_answers=n_answers)\n",
    "        self.keys = [\"UNITS-1.1\"]\n",
    "        self.units = {\n",
    "            \"მმ\": 1e-3,\n",
    "            \"სმ\": 1e-2,\n",
    "            \"დმ\": 1e-1,\n",
    "            \"მ\": 1,\n",
    "            \"კმ\": 10e3,\n",
    "        }\n",
    "        self.randomize()\n",
    "        self.correct_answer = self.calculate_answer()\n",
    "        self.wrong_answers = self.generate_wrong_answers()\n",
    "\n",
    "\n",
    "class UnitsLength1(Units1):\n",
    "    def __init__(self, n_maximum=500, n_answers=4):\n",
    "        super().__init__(n_maximum=n_maximum, n_answers=n_answers)\n",
    "        self.keys = [\"UNITS-1.1\"]\n",
    "        self.units = {\n",
    "            \"მმ\": 1e-3,\n",
    "            \"სმ\": 1e-2,\n",
    "            \"დმ\": 1e-1,\n",
    "            \"მ\": 1,\n",
    "            \"კმ\": 10e3,\n",
    "        }\n",
    "        self.randomize()\n",
    "        self.correct_answer = self.calculate_answer()\n",
    "        self.wrong_answers = self.generate_wrong_answers()\n",
    "\n",
    "class UnitsArea1(Units1):\n",
    "    def __init__(self, n_maximum=500, n_answers=4):\n",
    "        super().__init__(n_maximum=n_maximum, n_answers=n_answers)\n",
    "        self.keys = [\"UNITS-1.2\"]\n",
    "        self.units = {\n",
    "            \"კვადრატული მმ\": 1e-3**2,\n",
    "            \"კვადრატული სმ\": 1e-2**2,\n",
    "            \"კვადრატული დმ\": 1e-1**2,\n",
    "            \"კვადრატული მ\": 1**2,\n",
    "            \"კვადრატული კმ\": 10e3**2,\n",
    "        }\n",
    "        self.randomize()\n",
    "        self.correct_answer = self.calculate_answer()\n",
    "        self.wrong_answers = self.generate_wrong_answers()\n",
    "\n",
    "class UnitsVolume1(Units1):\n",
    "    def __init__(self, n_maximum=500, n_answers=4):\n",
    "        super().__init__(n_maximum=n_maximum, n_answers=n_answers)\n",
    "        self.keys = [\"UNITS-1.3\"]\n",
    "        self.units = {\n",
    "            \"კუბური მმ\": 1e-3**3,\n",
    "            \"კუბური სმ\": 1e-2**3,\n",
    "            \"კუბური დმ\": 1e-1**3,\n",
    "            \"ლიტრი\": 1e-1**3,\n",
    "            \"კუბური მ\": 1**3,\n",
    "            \"კუბური კმ\": 10e3**3,\n",
    "        }\n",
    "        self.randomize()\n",
    "        self.correct_answer = self.calculate_answer()\n",
    "        self.wrong_answers = self.generate_wrong_answers()\n",
    "\n",
    "class UnitsMass1(Units1):\n",
    "    def __init__(self, n_maximum=500, n_answers=4):\n",
    "        super().__init__(n_maximum=n_maximum, n_answers=n_answers)\n",
    "        self.keys = [\"UNITS-1.4\"]\n",
    "        self.units = {\n",
    "            \"გრამი\": 1e-3,\n",
    "            \"კილოგრამი\": 1,\n",
    "            \"ცენტნერი\": 1e2,\n",
    "            \"ტონა\": 1e3,\n",
    "        }\n",
    "        self.randomize()\n",
    "        self.correct_answer = self.calculate_answer()\n",
    "        self.wrong_answers = self.generate_wrong_answers()\n",
    "\n",
    "class UnitsTime1(Units1):\n",
    "    def __init__(self, n_maximum=500, n_answers=4):\n",
    "        super().__init__(n_maximum=n_maximum, n_answers=n_answers)\n",
    "        self.keys = [\"UNITS-1.5\"]\n",
    "        self.units = {\n",
    "            \"წამი\": 1,\n",
    "            \"წუთი\": 60,\n",
    "            \"საათი\": 60*60,\n",
    "        }\n",
    "        self.randomize()\n",
    "        self.correct_answer = self.calculate_answer()\n",
    "        self.wrong_answers = self.generate_wrong_answers()\n",
    "\n",
    "    def to_string(self, number, unit):\n",
    "        return f\"{sci_not(number, 1, 3)} {unit}\""
   ]
  },
  {
   "cell_type": "code",
   "execution_count": 25,
   "metadata": {},
   "outputs": [
    {
     "data": {
      "text/plain": [
       "{'საკითხები': ['UNITS-1.1'],\n",
       " 'ტექსტი': '398 დმ = ...',\n",
       " 'სავარაუდო პასუხები': {'ა': '3.98 × 10^3 მმ',\n",
       "  'ბ': '3.98 × 10^5 სმ',\n",
       "  'გ': '3.98 × 10^3 სმ',\n",
       "  'დ': '3.98 × 10^-4 კმ'},\n",
       " 'სწორი პასუხი': 'გ'}"
      ]
     },
     "execution_count": 25,
     "metadata": {},
     "output_type": "execute_result"
    }
   ],
   "source": [
    "UL1 = UnitsLength1()\n",
    "UL1.generate_text_and_choices()"
   ]
  },
  {
   "cell_type": "code",
   "execution_count": 26,
   "metadata": {},
   "outputs": [
    {
     "data": {
      "text/plain": [
       "{'საკითხები': ['UNITS-1.2'],\n",
       " 'ტექსტი': '17 კვადრატული მმ = ...',\n",
       " 'სავარაუდო პასუხები': {'ა': '1.7 × 10^-1 კვადრატული დმ',\n",
       "  'ბ': '1.7 × 10^-3 კვადრატული დმ',\n",
       "  'გ': '1.7 × 10^-7 კვადრატული მ',\n",
       "  'დ': '1.7 × 10^-2 კვადრატული სმ'},\n",
       " 'სწორი პასუხი': 'ბ'}"
      ]
     },
     "execution_count": 26,
     "metadata": {},
     "output_type": "execute_result"
    }
   ],
   "source": [
    "UA1 = UnitsArea1()\n",
    "UA1.generate_text_and_choices()"
   ]
  },
  {
   "cell_type": "code",
   "execution_count": 27,
   "metadata": {},
   "outputs": [
    {
     "data": {
      "text/plain": [
       "{'საკითხები': ['UNITS-1.3'],\n",
       " 'ტექსტი': '368 კუბური დმ = ...',\n",
       " 'სავარაუდო პასუხები': {'ა': '3.68 × 10^10 კუბური მმ',\n",
       "  'ბ': '3.68 × 10^-3 კუბური მ',\n",
       "  'გ': '3.68 × 10^-15 კუბური კმ',\n",
       "  'დ': '3.68 × 10^5 კუბური სმ'},\n",
       " 'სწორი პასუხი': 'დ'}"
      ]
     },
     "execution_count": 27,
     "metadata": {},
     "output_type": "execute_result"
    }
   ],
   "source": [
    "UV1 = UnitsVolume1()\n",
    "UV1.generate_text_and_choices()"
   ]
  },
  {
   "cell_type": "code",
   "execution_count": 28,
   "metadata": {},
   "outputs": [
    {
     "data": {
      "text/plain": [
       "{'საკითხები': ['UNITS-1.4'],\n",
       " 'ტექსტი': '418 კილოგრამი = ...',\n",
       " 'სავარაუდო პასუხები': {'ა': '4.18 × 10^-1 ცენტნერი',\n",
       "  'ბ': '4.18 ცენტნერი',\n",
       "  'გ': '4.18 ტონა',\n",
       "  'დ': '4.18 × 10^4 გრამი'},\n",
       " 'სწორი პასუხი': 'ბ'}"
      ]
     },
     "execution_count": 28,
     "metadata": {},
     "output_type": "execute_result"
    }
   ],
   "source": [
    "UM1 = UnitsMass1()\n",
    "UM1.generate_text_and_choices()"
   ]
  },
  {
   "cell_type": "code",
   "execution_count": 29,
   "metadata": {},
   "outputs": [
    {
     "data": {
      "text/plain": [
       "{'საკითხები': ['UNITS-1.5'],\n",
       " 'ტექსტი': '440 წუთი = ...',\n",
       " 'სავარაუდო პასუხები': {'ა': '2.64 × 10^5 წამი',\n",
       "  'ბ': '2.64 × 10^2 წამი',\n",
       "  'გ': '2.64 × 10^6 წამი',\n",
       "  'დ': '2.64 × 10^4 წამი'},\n",
       " 'სწორი პასუხი': 'დ'}"
      ]
     },
     "execution_count": 29,
     "metadata": {},
     "output_type": "execute_result"
    }
   ],
   "source": [
    "UT1 = UnitsTime1()\n",
    "UT1.generate_text_and_choices()"
   ]
  },
  {
   "cell_type": "code",
   "execution_count": 30,
   "metadata": {},
   "outputs": [],
   "source": [
    "class OpenPolygon1(MultipleChoice):\n",
    "    def __init__(self, n_points = 5, n_dimension = 2, n_answers=4):\n",
    "        super().__init__(n_answers=n_answers)\n",
    "        self.keys = [\"GEO2D-2.2\"]\n",
    "        self.n_points = n_points\n",
    "        self.n_dimension = n_dimension\n",
    "        self.n_answers = n_answers\n",
    "        self.randomize_and_calculate()\n",
    "        self.correct_answer = self.calculate_answer()\n",
    "        self.wrong_answers = self.generate_wrong_answers()\n",
    "\n",
    "    def randomize_and_calculate(self):\n",
    "        self.points = []\n",
    "        for i in range(self.n_points):\n",
    "            p = [np.random.randint(-20, 20) for d in range(self.n_dimension)]\n",
    "            while p in self.points:\n",
    "                p = [np.random.randint(-20, 20) for d in range(self.n_dimension)]\n",
    "            self.points.append(p)\n",
    "\n",
    "    def generate_text(self):\n",
    "        return f\"მოცემულია ტეხილი წერტილებით {tuple(self.points)}. გამოთვალეთ ტეხილის სიგრძე.\"\n",
    "\n",
    "    def calculate_answer(self):\n",
    "        result = 0\n",
    "        for i in range(len(self.points) - 1):\n",
    "            p_i = np.array(self.points[i])\n",
    "            p_ip1 = np.array(self.points[i+1])\n",
    "            distance = np.round(np.sqrt(np.sum((p_i - p_ip1)**2)),1)\n",
    "            result += distance\n",
    "\n",
    "        return np.round(result, 1)\n",
    "    \n",
    "    def generate_wrong_answers(self):\n",
    "        answers = []\n",
    "        for i in range(self.n_answers-1):\n",
    "            wrong_answer = self.correct_answer + np.random.choice([-1,1]) * np.random.randint(10,200) / 10.0\n",
    "            while wrong_answer in answers:\n",
    "                wrong_answer = self.correct_answer + np.random.choice([-1,1]) * np.random.randint(10,200) / 10.0\n",
    "            answers.append(np.round(wrong_answer,1))\n",
    "        return answers\n"
   ]
  },
  {
   "cell_type": "code",
   "execution_count": 31,
   "metadata": {},
   "outputs": [
    {
     "data": {
      "text/plain": [
       "{'საკითხები': ['GEO2D-2.2'],\n",
       " 'ტექსტი': 'მოცემულია ტეხილი წერტილებით ([-7, 14], [-11, 19], [-2, 19], [-15, -15], [-20, -12]). გამოთვალეთ ტეხილის სიგრძე.',\n",
       " 'სავარაუდო პასუხები': {'ა': 67.8, 'ბ': 57.6, 'გ': 64.6, 'დ': 46.9},\n",
       " 'სწორი პასუხი': 'ბ'}"
      ]
     },
     "execution_count": 31,
     "metadata": {},
     "output_type": "execute_result"
    }
   ],
   "source": [
    "OP1 = OpenPolygon1()\n",
    "OP1.generate_text_and_choices()"
   ]
  },
  {
   "cell_type": "code",
   "execution_count": 32,
   "metadata": {},
   "outputs": [],
   "source": [
    "class Clock1(MultipleChoice):\n",
    "    def __init__(self, n_answers=4):\n",
    "        super().__init__(n_answers=n_answers)\n",
    "        self.keys = [\"GEO2D-3.2\", \"2022-1\", \"2022-2\"]\n",
    "\n",
    "        self.randomize()\n",
    "        self.correct_answer = self.calculate_answer()\n",
    "        self.wrong_answers = self.generate_wrong_answers()\n",
    "        \n",
    "    def randomize(self):\n",
    "        self.hour = np.random.randint(1, 13)\n",
    "        self.minute = np.random.randint(0, 12)*5\n",
    "\n",
    "    def generate_text(self):\n",
    "        return f\"საათი აჩვენებს {self.hour} საათსა და {self.minute} წუთს. იპოვეთ კუთხის სიდიდე წუთებისა და საათების ისრებს შორის.\"\n",
    "    \n",
    "    def calculate_answer(self):\n",
    "        angle_min = self.minute*360/60\n",
    "        angle_h = self.hour*360/12 + angle_min/12\n",
    "        angle = np.abs(angle_min - angle_h)\n",
    "        correct_answer = np.min([angle, 360 - angle])\n",
    "        return np.round(correct_answer, 1)\n",
    "\n",
    "    def generate_wrong_answers(self):\n",
    "        answers = []\n",
    "        for i in range(self.n_answers-1):\n",
    "            wrong_answer = np.random.randint(0,720)/2\n",
    "            while (wrong_answer in answers) | (wrong_answer == self.correct_answer):\n",
    "                wrong_answer = self.correct_answer + np.random.choice([-1,1]) * np.random.randint(10,200) / 10.0\n",
    "            answers.append(np.round(wrong_answer,1))\n",
    "        return answers"
   ]
  },
  {
   "cell_type": "code",
   "execution_count": 33,
   "metadata": {},
   "outputs": [
    {
     "data": {
      "text/plain": [
       "{'საკითხები': ['GEO2D-3.2', '2022-1', '2022-2'],\n",
       " 'ტექსტი': 'საათი აჩვენებს 1 საათსა და 5 წუთს. იპოვეთ კუთხის სიდიდე წუთებისა და საათების ისრებს შორის.',\n",
       " 'სავარაუდო პასუხები': {'ა': 73.5, 'ბ': 329.5, 'გ': 2.5, 'დ': 157.0},\n",
       " 'სწორი პასუხი': 'გ'}"
      ]
     },
     "execution_count": 33,
     "metadata": {},
     "output_type": "execute_result"
    }
   ],
   "source": [
    "C1 = Clock1()\n",
    "C1.generate_text_and_choices()"
   ]
  },
  {
   "cell_type": "code",
   "execution_count": 34,
   "metadata": {},
   "outputs": [],
   "source": [
    "class AcPerpWide1(MultipleChoice):\n",
    "    def __init__(self, n_answers=4):\n",
    "        super().__init__(n_answers=n_answers)\n",
    "        self.keys = [\"GEO2D-3.3\", \"GEO2D-12.1\"]\n",
    "        \n",
    "        self.randomize()\n",
    "        self.correct_answer = self.calculate_answer()\n",
    "        self.wrong_answers = self.generate_wrong_answers()\n",
    "        \n",
    "    def randomize(self):\n",
    "        self.perpendicular = np.random.randint(0,5)\n",
    "        self.base = np.random.randint(1, 301)/10\n",
    "        self.height = np.random.randint(1, 151)/10\n",
    "\n",
    "    def generate_text(self):\n",
    "        return f\"მოცემულია ტოლფერდა სამკუთხედი ფუძით {self.base} სმ, რომლის სიმაღლეა {self.height} სმ. როგორია ფუძის საპირისპიროდ მდებარე კუთხე?\"\n",
    "    \n",
    "    def calculate_answer(self):\n",
    "        if self.perpendicular == 0:\n",
    "            self.base = np.round(2*self.height*np.tan(np.pi/4), 1)\n",
    "            return \"მართი\"\n",
    "\n",
    "        else:\n",
    "            angle = 2*np.arctan(self.base/(2*self.height))\n",
    "            if angle > np.pi/2:\n",
    "                return \"ბლაგვი\"\n",
    "            elif angle < np.pi/2:\n",
    "                return \"მახვილი\"\n",
    "            else:\n",
    "                return \"Error\"\n",
    "\n",
    "    def generate_wrong_answers(self):\n",
    "        possible_answers = [\"მახვილი\", \"მართი\", \"ბლაგვი\", \"არც ერთი\"]\n",
    "        answers = []\n",
    "        for i in range(3):\n",
    "            random_index = np.random.randint(0,4)\n",
    "            wrong_answer = possible_answers[random_index]\n",
    "            while (wrong_answer in answers) | (wrong_answer == self.correct_answer):\n",
    "                random_index = np.random.randint(0,4)\n",
    "                wrong_answer = possible_answers[random_index]\n",
    "            answers.append(wrong_answer)\n",
    "        return answers"
   ]
  },
  {
   "cell_type": "code",
   "execution_count": 35,
   "metadata": {},
   "outputs": [
    {
     "data": {
      "text/plain": [
       "{'საკითხები': ['GEO2D-3.3', 'GEO2D-12.1'],\n",
       " 'ტექსტი': 'მოცემულია ტოლფერდა სამკუთხედი ფუძით 16.4 სმ, რომლის სიმაღლეა 8.2 სმ. როგორია ფუძის საპირისპიროდ მდებარე კუთხე?',\n",
       " 'სავარაუდო პასუხები': {'ა': 'მახვილი',\n",
       "  'ბ': 'ბლაგვი',\n",
       "  'გ': 'არც ერთი',\n",
       "  'დ': 'მართი'},\n",
       " 'სწორი პასუხი': 'დ'}"
      ]
     },
     "execution_count": 35,
     "metadata": {},
     "output_type": "execute_result"
    }
   ],
   "source": [
    "ACW1 = AcPerpWide1()\n",
    "ACW1.generate_text_and_choices()"
   ]
  },
  {
   "cell_type": "code",
   "execution_count": 36,
   "metadata": {},
   "outputs": [],
   "source": [
    "class Thales1(MultipleChoice):\n",
    "    def __init__(self, n_answers=4):\n",
    "        super().__init__(n_answers=n_answers)\n",
    "        self.keys = [\"GEO2D-22.1\"]\n",
    "\n",
    "        self.randomize()\n",
    "        self.correct_answer = self.calculate_answer()\n",
    "        self.wrong_answers = self.generate_wrong_answers()\n",
    "        \n",
    "    def randomize(self):\n",
    "        self.base = np.random.randint(1, 31)\n",
    "\n",
    "    def generate_text(self):\n",
    "        return f\"მოცემულია მართკუთხა სამკუთხედი ჰიპოტენუზით {self.base} სმ. რას უდრის მანძილი ჰიპოტენუზის შუაწერტილიდან მის მოპირდაპირე წვერომდე?\"\n",
    "    \n",
    "    def calculate_answer(self):\n",
    "        return np.round(self.base/2.0, 1)\n",
    "\n",
    "    def generate_wrong_answers(self):\n",
    "        answers = []\n",
    "        for i in range(self.n_answers-1):\n",
    "            wrong_answer = self.correct_answer + np.random.choice([-1,1]) * np.random.randint(10,30) / 2.0\n",
    "            while wrong_answer in answers:\n",
    "                wrong_answer = self.correct_answer + np.random.choice([-1,1]) * np.random.randint(10,30) / 2.0\n",
    "            answers.append(np.round(wrong_answer,1))\n",
    "        return answers\n"
   ]
  },
  {
   "cell_type": "code",
   "execution_count": 37,
   "metadata": {},
   "outputs": [
    {
     "data": {
      "text/plain": [
       "{'საკითხები': ['GEO2D-22.1'],\n",
       " 'ტექსტი': 'მოცემულია მართკუთხა სამკუთხედი ჰიპოტენუზით 22 სმ. რას უდრის მანძილი ჰიპოტენუზის შუაწერტილიდან მის მოპირდაპირე წვერომდე?',\n",
       " 'სავარაუდო პასუხები': {'ა': 11.0, 'ბ': 25.0, 'გ': 21.5, 'დ': 22.0},\n",
       " 'სწორი პასუხი': 'ა'}"
      ]
     },
     "execution_count": 37,
     "metadata": {},
     "output_type": "execute_result"
    }
   ],
   "source": [
    "T1 = Thales1()\n",
    "T1.generate_text_and_choices()"
   ]
  },
  {
   "cell_type": "code",
   "execution_count": 38,
   "metadata": {},
   "outputs": [],
   "source": [
    "problem_classes = [\n",
    "    OpenPolygon1,\n",
    "    PrimeFactors1,\n",
    "    # GreatestCommonDivisor1,\n",
    "    LowestCommonMultiple1,\n",
    "    MakeDivisible1,\n",
    "    MakeRemainder1,\n",
    "    DecimalToBinary1,\n",
    "    BinaryToDecimal1,\n",
    "    ScientificNotation1,\n",
    "    UnitsLength1,\n",
    "    UnitsArea1,\n",
    "    UnitsVolume1,\n",
    "    UnitsMass1,\n",
    "    UnitsTime1,\n",
    "    Clock1,\n",
    "    AcPerpWide1,\n",
    "    Thales1,\n",
    "]"
   ]
  },
  {
   "cell_type": "code",
   "execution_count": 41,
   "metadata": {},
   "outputs": [],
   "source": [
    "problem_database = {\n",
    "    \"ტექსტი\": [],\n",
    "    \"ა\": [],\n",
    "    \"ბ\": [],\n",
    "    \"გ\": [],\n",
    "    \"დ\": [],\n",
    "    \"პასუხი\": [],\n",
    "    \"საკითხები\": [],\n",
    "}\n",
    "\n",
    "for PC in problem_classes:\n",
    "    for i in range(20):\n",
    "        problem = PC()\n",
    "        ptc = problem.generate_text_and_choices()\n",
    "        problem_database[\"ტექსტი\"].append(ptc[\"ტექსტი\"])\n",
    "        problem_database[\"ა\"].append(ptc[\"სავარაუდო პასუხები\"][\"ა\"])\n",
    "        problem_database[\"ბ\"].append(ptc[\"სავარაუდო პასუხები\"][\"ბ\"])\n",
    "        problem_database[\"გ\"].append(ptc[\"სავარაუდო პასუხები\"][\"გ\"])\n",
    "        problem_database[\"დ\"].append(ptc[\"სავარაუდო პასუხები\"][\"დ\"])\n",
    "        problem_database[\"პასუხი\"].append(ptc[\"სწორი პასუხი\"])\n",
    "        problem_database[\"საკითხები\"].append(\", \".join(ptc[\"საკითხები\"]))\n"
   ]
  },
  {
   "cell_type": "code",
   "execution_count": 42,
   "metadata": {},
   "outputs": [],
   "source": [
    "import pandas as pd\n",
    "problem_database_pd = pd.DataFrame.from_dict(problem_database)"
   ]
  },
  {
   "cell_type": "code",
   "execution_count": 43,
   "metadata": {},
   "outputs": [],
   "source": [
    "problem_database_pd.to_csv(\"problem_database.csv\", encoding=\"utf-8\")"
   ]
  },
  {
   "cell_type": "code",
   "execution_count": 44,
   "metadata": {},
   "outputs": [],
   "source": [
    "with open(\"problem_database.json\", 'w', encoding='utf-8') as file:\n",
    "    problem_database_pd.to_json(file, force_ascii=False)"
   ]
  }
 ],
 "metadata": {
  "kernelspec": {
   "display_name": "Python 3",
   "language": "python",
   "name": "python3"
  },
  "language_info": {
   "codemirror_mode": {
    "name": "ipython",
    "version": 3
   },
   "file_extension": ".py",
   "mimetype": "text/x-python",
   "name": "python",
   "nbconvert_exporter": "python",
   "pygments_lexer": "ipython3",
   "version": "3.11.6"
  }
 },
 "nbformat": 4,
 "nbformat_minor": 2
}
