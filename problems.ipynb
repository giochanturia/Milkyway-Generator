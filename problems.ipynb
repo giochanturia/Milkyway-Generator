{
 "cells": [
  {
   "cell_type": "code",
   "execution_count": 1,
   "metadata": {},
   "outputs": [],
   "source": [
    "import numpy as np\n",
    "import random\n",
    "import math"
   ]
  },
  {
   "cell_type": "code",
   "execution_count": 3,
   "metadata": {},
   "outputs": [],
   "source": [
    "choice_letters = \"ABCDEFGHIJKLMNOPQRSTUVWXYZ\"\n",
    "choice_letters = \"აბგდევზთიკლმნოპჟრსტუფქღყშჩცძწჭხჯჰ\"\n",
    "\n",
    "class MultipleChoice:\n",
    "    def __init__(self, n_answers=4):\n",
    "        self.n_answers = n_answers\n",
    "        self.keys = []\n",
    "        self.correct_answer = 0\n",
    "        self.wrong_answers = range(1, n_answers)\n",
    "\n",
    "    def generate_text(self):\n",
    "        return \"\"\n",
    "\n",
    "    def generate_multiple_choices(self):\n",
    "        all_answers = [self.correct_answer, *self.wrong_answers]\n",
    "        random.shuffle(all_answers)\n",
    "        multiple_choices = {}\n",
    "        correct_choice = \"\"\n",
    "        for i,a in enumerate(all_answers):\n",
    "            multiple_choices[choice_letters[i]] = a\n",
    "            if a == self.correct_answer:\n",
    "                correct_choice = choice_letters[i]\n",
    "        return multiple_choices, correct_choice\n",
    "\n",
    "    def generate_text_and_choices(self):\n",
    "        t = self.generate_text()\n",
    "        mc, c = self.generate_multiple_choices()\n",
    "        return {\n",
    "            \"საკითხები\": self.keys,\n",
    "            \"ტექსტი\": t,\n",
    "            \"სავარაუდო პასუხები\": mc,\n",
    "            \"სწორი პასუხი\": c,\n",
    "        }"
   ]
  },
  {
   "cell_type": "code",
   "execution_count": 6,
   "metadata": {},
   "outputs": [],
   "source": [
    "class OpenPolygon1(MultipleChoice):\n",
    "    def __init__(self, n_points, n_dimension, n_answers=4):\n",
    "        super().__init__(n_answers=n_answers)\n",
    "        self.keys = [\"GEO2D-2.2\"]\n",
    "        self.n_points = n_points\n",
    "        self.n_dimension = n_dimension\n",
    "        self.n_answers = n_answers\n",
    "        self.randomize()\n",
    "        self.correct_answer = self.calculate_answer()\n",
    "        self.wrong_answers = self.generate_wrong_answers()\n",
    "\n",
    "    def randomize(self):\n",
    "        self.points = []\n",
    "        for i in range(self.n_points):\n",
    "            p = tuple([np.random.randint(-20, 20) for d in range(self.n_dimension)])\n",
    "            while p in self.points:\n",
    "                p = tuple([np.random.randint(-20, 20) for d in range(self.n_dimension)])\n",
    "            self.points.append(p)\n",
    "\n",
    "    def generate_text(self):\n",
    "        return \"მოცემულია ტეხილი, რომელიც გადის წერტილებზე: \" + \", \".join(str(p) for p in self.points) + \". რისი ტოლია ტეხილის სრული სიგრძე?\"\n",
    "\n",
    "    def calculate_answer(self):\n",
    "        result = 0\n",
    "        for i in range(len(self.points) - 1):\n",
    "            p_i = np.array(self.points[i])\n",
    "            p_ip1 = np.array(self.points[i+1])\n",
    "            distance = np.round(np.sqrt(np.sum((p_i - p_ip1)**2)),1)\n",
    "            result += distance\n",
    "\n",
    "        return np.round(result, 1)\n",
    "    \n",
    "    def generate_wrong_answers(self):\n",
    "        answers = []\n",
    "        for i in range(self.n_answers-1):\n",
    "            wrong_answer = self.correct_answer + np.random.choice([-1,1]) * np.random.randint(10,200) / 10.0\n",
    "            while wrong_answer in answers:\n",
    "                wrong_answer = self.correct_answer + np.random.choice([-1,1]) * np.random.randint(10,200) / 10.0\n",
    "            answers.append(np.round(wrong_answer,1))\n",
    "        return answers\n"
   ]
  },
  {
   "cell_type": "code",
   "execution_count": 7,
   "metadata": {},
   "outputs": [
    {
     "data": {
      "text/plain": [
       "{'საკითხები': ['GEO2D-2.2'],\n",
       " 'ტექსტი': 'მოცემულია ტეხილი, რომელიც გადის წერტილებზე: (18, 1), (1, 4), (-17, 12). რისი ტოლია ტეხილის სრული სიგრძე?',\n",
       " 'სავარაუდო პასუხები': {'ა': 53.2, 'ბ': 45.3, 'გ': 37.0, 'დ': 50.7},\n",
       " 'სწორი პასუხი': 'გ'}"
      ]
     },
     "execution_count": 7,
     "metadata": {},
     "output_type": "execute_result"
    }
   ],
   "source": [
    "OP1 = OpenPolygon1(3, 2, n_answers=4)\n",
    "OP1.generate_text_and_choices()\n"
   ]
  },
  {
   "cell_type": "code",
   "execution_count": 8,
   "metadata": {},
   "outputs": [],
   "source": [
    "def prime_factorization(n):\n",
    "        factors = []\n",
    "        divisor = 2\n",
    "\n",
    "        while n > 1:\n",
    "            while n % divisor == 0:\n",
    "                factors.append(divisor)\n",
    "                n //= divisor\n",
    "            divisor += 1\n",
    "\n",
    "        return factors\n",
    "\n",
    "class PrimeFactors1(MultipleChoice):\n",
    "    def __init__(self, n_maximum=1000, n_answers=4):\n",
    "        super().__init__(n_answers=n_answers)\n",
    "        self.keys = [\"ALGEBRA-2.2\"]\n",
    "        self.n_maximum = n_maximum\n",
    "        self.randomize()\n",
    "        self.correct_answer = self.calculate_answer()\n",
    "        self.wrong_answers = self.generate_wrong_answers()\n",
    "\n",
    "    def randomize(self):\n",
    "        self.number = np.random.randint(2, self.n_maximum)\n",
    "        \n",
    "    def calculate_answer(self):\n",
    "        return \", \".join(str(pf) for pf in prime_factorization(self.number))\n",
    "    \n",
    "    def generate_text(self):\n",
    "        return f\"დაშალეთ {self.number} მარტივ მამრავლებად.\"\n",
    "    \n",
    "    def generate_wrong_answers(self):\n",
    "        numbers = []\n",
    "        answers = []\n",
    "        for i in range(self.n_answers-1):\n",
    "            wrong_number = self.number + np.random.choice([-1,1]) * np.random.randint(10,200)\n",
    "            while wrong_number in numbers or len(prime_factorization(wrong_number)) == 1:\n",
    "                wrong_number = self.number + np.random.choice([-1,1]) * np.random.randint(10,200)\n",
    "                \n",
    "            numbers.append(wrong_number)\n",
    "            answers.append(\", \".join(str(pf) for pf in prime_factorization(wrong_number)))\n",
    "            \n",
    "        return answers"
   ]
  },
  {
   "cell_type": "code",
   "execution_count": 9,
   "metadata": {},
   "outputs": [
    {
     "data": {
      "text/plain": [
       "{'საკითხები': ['ALGEBRA-2.2'],\n",
       " 'ტექსტი': 'დაშალეთ 641 მარტივ მამრავლებად.',\n",
       " 'სავარაუდო პასუხები': {'ა': '2, 2, 2, 89',\n",
       "  'ბ': '641',\n",
       "  'გ': '3, 269',\n",
       "  'დ': '2, 2, 11, 19'},\n",
       " 'სწორი პასუხი': 'ბ'}"
      ]
     },
     "execution_count": 9,
     "metadata": {},
     "output_type": "execute_result"
    }
   ],
   "source": [
    "PF1 = PrimeFactors1()\n",
    "PF1.generate_text_and_choices()\n"
   ]
  },
  {
   "cell_type": "code",
   "execution_count": 10,
   "metadata": {},
   "outputs": [],
   "source": [
    "class GreatestCommonDivisor1(MultipleChoice):\n",
    "    def __init__(self, n_maximum=200, n_answers=4):\n",
    "        super().__init__(n_answers=n_answers)\n",
    "        self.keys = [\"ALGEBRA-2.3\"]\n",
    "        self.n_maximum = n_maximum\n",
    "        self.randomize()\n",
    "        self.correct_answer = self.calculate_answer()\n",
    "        self.wrong_answers = self.generate_wrong_answers()\n",
    "\n",
    "    def randomize(self):\n",
    "        self.a = np.random.randint(2, self.n_maximum)\n",
    "        self.b = np.random.randint(2, self.n_maximum)\n",
    "        while self.a == self.b:\n",
    "            self.b = np.random.randint(2, self.n_maximum)\n",
    "\n",
    "        \n",
    "    def calculate_answer(self):\n",
    "        return np.math.gcd(self.a, self.b)\n",
    "    \n",
    "    def generate_text(self):\n",
    "        return f\"იპოვეთ {self.a} და {self.b} რიცხვების უდიდესი საერთო გამყოფი.\"\n",
    "    \n",
    "    def generate_wrong_answers(self):\n",
    "        answers = []\n",
    "        for i in range(self.n_answers-1):\n",
    "            wrong_number = np.random.randint(1, min(self.a, self.b))\n",
    "            while wrong_number in answers or wrong_number == self.correct_answer:\n",
    "                wrong_number = np.random.randint(1, min(self.a, self.b))\n",
    "                \n",
    "            answers.append(wrong_number)\n",
    "            \n",
    "        return answers"
   ]
  },
  {
   "cell_type": "code",
   "execution_count": 11,
   "metadata": {},
   "outputs": [
    {
     "data": {
      "text/plain": [
       "{'საკითხები': ['ALGEBRA-2.3'],\n",
       " 'ტექსტი': 'იპოვეთ 56 და 173 რიცხვების უდიდესი საერთო გამყოფი.',\n",
       " 'სავარაუდო პასუხები': {'ა': 43, 'ბ': 1, 'გ': 41, 'დ': 39},\n",
       " 'სწორი პასუხი': 'ბ'}"
      ]
     },
     "execution_count": 11,
     "metadata": {},
     "output_type": "execute_result"
    }
   ],
   "source": [
    "GCD1 = GreatestCommonDivisor1()\n",
    "GCD1.generate_text_and_choices()"
   ]
  },
  {
   "cell_type": "code",
   "execution_count": 12,
   "metadata": {},
   "outputs": [],
   "source": [
    "class LowestCommonMultiple1(MultipleChoice):\n",
    "    def __init__(self, n_maximum=200, n_answers=4):\n",
    "        super().__init__(n_answers=n_answers)\n",
    "        self.keys = [\"ALGEBRA-2.3\"]\n",
    "        self.n_maximum = n_maximum\n",
    "        self.randomize()\n",
    "        self.correct_answer = self.calculate_answer()\n",
    "        self.wrong_answers = self.generate_wrong_answers()\n",
    "\n",
    "    def randomize(self):\n",
    "        self.a = np.random.randint(2, self.n_maximum)\n",
    "        self.b = np.random.randint(2, self.n_maximum)\n",
    "        while self.a == self.b:\n",
    "            self.b = np.random.randint(2, self.n_maximum)\n",
    "\n",
    "        \n",
    "    def calculate_answer(self):\n",
    "        return np.math.lcm(self.a, self.b)\n",
    "    \n",
    "    def generate_text(self):\n",
    "        return f\"იპოვეთ {self.a} და {self.b} რიცხვების უმცირესი საერთო ჯერადი.\"\n",
    "    \n",
    "    def generate_wrong_answers(self):\n",
    "        answers = []\n",
    "        for i in range(self.n_answers-1):\n",
    "            wrong_number = np.random.randint(max(self.a, self.b), self.a * self.b + 1)\n",
    "            while wrong_number in answers or wrong_number == self.correct_answer:\n",
    "                wrong_number = np.random.randint(max(self.a, self.b), self.a * self.b + 1)\n",
    "                \n",
    "            answers.append(wrong_number)\n",
    "            \n",
    "        return answers"
   ]
  },
  {
   "cell_type": "code",
   "execution_count": 13,
   "metadata": {},
   "outputs": [
    {
     "data": {
      "text/plain": [
       "{'საკითხები': ['ALGEBRA-2.3'],\n",
       " 'ტექსტი': 'იპოვეთ 119 და 150 რიცხვების უმცირესი საერთო ჯერადი.',\n",
       " 'სავარაუდო პასუხები': {'ა': 7913, 'ბ': 7593, 'გ': 17850, 'დ': 1922},\n",
       " 'სწორი პასუხი': 'გ'}"
      ]
     },
     "execution_count": 13,
     "metadata": {},
     "output_type": "execute_result"
    }
   ],
   "source": [
    "LCM1 = LowestCommonMultiple1()\n",
    "LCM1.generate_text_and_choices()"
   ]
  },
  {
   "cell_type": "code",
   "execution_count": 14,
   "metadata": {},
   "outputs": [],
   "source": [
    "class MakeDivisible1(MultipleChoice):\n",
    "    def __init__(self, n_maximum=1000, n_answers=4):\n",
    "        super().__init__(n_answers=n_answers)\n",
    "        self.keys = [\"ALGEBRA-2.4\"]\n",
    "        self.n_maximum = n_maximum\n",
    "        self.randomize()\n",
    "        self.correct_answer = self.calculate_answer()\n",
    "        self.wrong_answers = self.generate_wrong_answers()\n",
    "\n",
    "    def randomize(self):\n",
    "        self.a = np.random.randint(2, self.n_maximum)\n",
    "        self.b = np.random.choice([2, 3, 4, 5, 6, 8, 9, 10])\n",
    "        while self.a <= self.b:\n",
    "            self.a = np.random.randint(2, self.n_maximum)\n",
    "\n",
    "        \n",
    "    def calculate_answer(self):\n",
    "        return self.a % self.b\n",
    "    \n",
    "    def generate_text(self):\n",
    "        return f\"რა უმცირესი ნატურალური რიცხვი უნდა დავუმატოთ {self.a}-ს, რომ მიღებული შედეგი უნაშთოდ იყოფოდეს {self.b}-ზე?\"\n",
    "    \n",
    "    def generate_wrong_answers(self):\n",
    "        answers = []\n",
    "        for i in range(self.n_answers-1):\n",
    "            wrong_number = np.random.randint(10)\n",
    "            while wrong_number in answers or wrong_number == self.correct_answer:\n",
    "                wrong_number = np.random.randint(10)\n",
    "                \n",
    "            answers.append(wrong_number)\n",
    "            \n",
    "        return answers"
   ]
  },
  {
   "cell_type": "code",
   "execution_count": 15,
   "metadata": {},
   "outputs": [
    {
     "data": {
      "text/plain": [
       "{'საკითხები': ['ALGEBRA-2.4'],\n",
       " 'ტექსტი': 'რა უმცირესი ნატურალური რიცხვი უნდა დავუმატოთ 729-ს, რომ მიღებული შედეგი უნაშთოდ იყოფოდეს 3-ზე?',\n",
       " 'სავარაუდო პასუხები': {'ა': 9, 'ბ': 1, 'გ': 0, 'დ': 6},\n",
       " 'სწორი პასუხი': 'გ'}"
      ]
     },
     "execution_count": 15,
     "metadata": {},
     "output_type": "execute_result"
    }
   ],
   "source": [
    "MD1 = MakeDivisible1()\n",
    "MD1.generate_text_and_choices()"
   ]
  },
  {
   "cell_type": "code",
   "execution_count": 16,
   "metadata": {},
   "outputs": [],
   "source": [
    "class MakeRemainder1(MultipleChoice):\n",
    "    def __init__(self, n_maximum=1000, n_answers=4):\n",
    "        super().__init__(n_answers=n_answers)\n",
    "        self.keys = [\"ALGEBRA-2.4\", \"ALGEBRA-2.5\"]\n",
    "        self.n_maximum = n_maximum\n",
    "        self.randomize()\n",
    "        self.correct_answer = self.calculate_answer()\n",
    "        self.wrong_answers = self.generate_wrong_answers()\n",
    "\n",
    "    def randomize(self):\n",
    "        self.a = np.random.randint(2, self.n_maximum)\n",
    "        self.b = np.random.choice([2, 3, 4, 5, 6, 8, 9, 10])\n",
    "        self.c = np.random.randint(self.b)\n",
    "        while self.a <= self.b:\n",
    "            self.a = np.random.randint(2, self.n_maximum)\n",
    "\n",
    "        \n",
    "    def calculate_answer(self):\n",
    "        return (self.c - self.a % self.b) % self.b\n",
    "    \n",
    "    def generate_text(self):\n",
    "        return f\"რა უმცირესი ნატურალური რიცხვი უნდა დავუმატოთ {self.a}-ს, რომ მიღებული შედეგის {self.b}-ზე გაყოფისას მიღებული ნაშთი იყოს {self.c}?\"\n",
    "    \n",
    "    def generate_wrong_answers(self):\n",
    "        answers = []\n",
    "        for i in range(self.n_answers-1):\n",
    "            wrong_number = np.random.randint(10)\n",
    "            while wrong_number in answers or wrong_number == self.correct_answer:\n",
    "                wrong_number = np.random.randint(10)\n",
    "            answers.append(wrong_number)\n",
    "            \n",
    "        return answers"
   ]
  },
  {
   "cell_type": "code",
   "execution_count": 17,
   "metadata": {},
   "outputs": [
    {
     "data": {
      "text/plain": [
       "{'საკითხები': ['ALGEBRA-2.4', 'ALGEBRA-2.5'],\n",
       " 'ტექსტი': 'რა უმცირესი ნატურალური რიცხვი უნდა დავუმატოთ 531-ს, რომ მიღებული შედეგის 3-ზე გაყოფისას მიღებული ნაშთი იყოს 0?',\n",
       " 'სავარაუდო პასუხები': {'ა': 8, 'ბ': 2, 'გ': 5, 'დ': 0},\n",
       " 'სწორი პასუხი': 'დ'}"
      ]
     },
     "execution_count": 17,
     "metadata": {},
     "output_type": "execute_result"
    }
   ],
   "source": [
    "MR1 = MakeRemainder1()\n",
    "MR1.generate_text_and_choices()"
   ]
  },
  {
   "cell_type": "code",
   "execution_count": 18,
   "metadata": {},
   "outputs": [],
   "source": [
    "class DecimalToBinary1(MultipleChoice):\n",
    "    def __init__(self, n_maximum=500, n_answers=4):\n",
    "        super().__init__(n_answers=n_answers)\n",
    "        self.keys = [\"ALGEBRA-9.1\"]\n",
    "        self.n_maximum = n_maximum\n",
    "        self.randomize()\n",
    "        self.correct_answer = self.calculate_answer()\n",
    "        self.wrong_answers = self.generate_wrong_answers()\n",
    "\n",
    "    def randomize(self):\n",
    "        self.number = np.random.randint(1, self.n_maximum)\n",
    "        \n",
    "    def calculate_answer(self):\n",
    "        return bin(self.number)[2:]\n",
    "    \n",
    "    def generate_text(self):\n",
    "        return f\"წარმოადგინეთ {self.number} ორობით სისტემაში.\"\n",
    "    \n",
    "    def generate_wrong_answers(self):\n",
    "        numbers = []\n",
    "        answers = []\n",
    "        for i in range(self.n_answers-1):\n",
    "            wrong_number = np.random.randint(0, self.n_maximum)\n",
    "            while wrong_number in numbers or wrong_number == self.number:\n",
    "                wrong_number = np.random.randint(0, self.n_maximum)\n",
    "                \n",
    "            numbers.append(wrong_number)\n",
    "            answers.append(bin(wrong_number)[2:])\n",
    "            \n",
    "        return answers"
   ]
  },
  {
   "cell_type": "code",
   "execution_count": 19,
   "metadata": {},
   "outputs": [
    {
     "data": {
      "text/plain": [
       "{'საკითხები': ['ALGEBRA-9.1'],\n",
       " 'ტექსტი': 'წარმოადგინეთ 337 ორობით სისტემაში.',\n",
       " 'სავარაუდო პასუხები': {'ა': '101010001',\n",
       "  'ბ': '101001111',\n",
       "  'გ': '111110',\n",
       "  'დ': '110010011'},\n",
       " 'სწორი პასუხი': 'ა'}"
      ]
     },
     "execution_count": 19,
     "metadata": {},
     "output_type": "execute_result"
    }
   ],
   "source": [
    "DTB1 = DecimalToBinary1()\n",
    "DTB1.generate_text_and_choices()"
   ]
  },
  {
   "cell_type": "code",
   "execution_count": 20,
   "metadata": {},
   "outputs": [],
   "source": [
    "class BinaryToDecimal1(MultipleChoice):\n",
    "    def __init__(self, n_maximum=500, n_answers=4):\n",
    "        super().__init__(n_answers=n_answers)\n",
    "        self.keys = [\"ALGEBRA-9.1\"]\n",
    "        self.n_maximum = n_maximum\n",
    "        self.randomize()\n",
    "        self.correct_answer = self.calculate_answer()\n",
    "        self.wrong_answers = self.generate_wrong_answers()\n",
    "\n",
    "    def randomize(self):\n",
    "        self.number = np.random.randint(1, self.n_maximum)\n",
    "        self.number_binary = bin(self.number)[2:]\n",
    "        \n",
    "    def calculate_answer(self):\n",
    "        return self.number\n",
    "    \n",
    "    def generate_text(self):\n",
    "        return f\"წარმოადგინეთ ორობით სისტემაში ჩაწერილი რიცხვი {self.number_binary} ათობით სისტემაში.\"\n",
    "    \n",
    "    def generate_wrong_answers(self):\n",
    "        numbers = []\n",
    "        for i in range(self.n_answers-1):\n",
    "            wrong_number = np.random.randint(0, self.n_maximum)\n",
    "            while wrong_number in numbers or wrong_number == self.number:\n",
    "                wrong_number = np.random.randint(0, self.n_maximum)\n",
    "                \n",
    "            numbers.append(wrong_number)\n",
    "            \n",
    "        return numbers"
   ]
  },
  {
   "cell_type": "code",
   "execution_count": 21,
   "metadata": {},
   "outputs": [
    {
     "data": {
      "text/plain": [
       "{'საკითხები': ['ALGEBRA-9.1'],\n",
       " 'ტექსტი': 'წარმოადგინეთ ორობით სისტემაში ჩაწერილი რიცხვი 11010010 ათობით სისტემაში.',\n",
       " 'სავარაუდო პასუხები': {'ა': 210, 'ბ': 464, 'გ': 305, 'დ': 347},\n",
       " 'სწორი პასუხი': 'ა'}"
      ]
     },
     "execution_count": 21,
     "metadata": {},
     "output_type": "execute_result"
    }
   ],
   "source": [
    "BTD1 = BinaryToDecimal1()\n",
    "BTD1.generate_text_and_choices()"
   ]
  },
  {
   "cell_type": "code",
   "execution_count": 22,
   "metadata": {},
   "outputs": [
    {
     "data": {
      "text/plain": [
       "'1.234 × 10^1'"
      ]
     },
     "execution_count": 22,
     "metadata": {},
     "output_type": "execute_result"
    }
   ],
   "source": [
    "def sci_not(number, digits_before_comma = 1, digits_after_comma = 10):\n",
    "    \"\"\"Scientific notation\"\"\"\n",
    "    exponent = int(np.floor(np.log10(number)) + 1 - digits_before_comma)\n",
    "    base_exponent = 10 ** exponent\n",
    "    coefficient = np.round(number / base_exponent, digits_after_comma)\n",
    "    if coefficient % 1 == 0:\n",
    "        coefficient = int(coefficient)\n",
    "    result = f\"{coefficient}\"\n",
    "    if exponent != 0:\n",
    "        result += f\" × 10^{exponent}\"\n",
    "    return result\n",
    "\n",
    "sci_not(12.34)"
   ]
  },
  {
   "cell_type": "code",
   "execution_count": 23,
   "metadata": {},
   "outputs": [],
   "source": [
    "class ScientificNotation1(MultipleChoice):\n",
    "    def __init__(self, n_digits_before_comma=2, n_digits_after_comma=2, n_answers=4):\n",
    "        super().__init__(n_answers=n_answers)\n",
    "        self.keys = [\"ALGEBRA-4.2\", \"2022-1\", \"2022-2\"]\n",
    "        self.n_digits_before_comma = n_digits_before_comma\n",
    "        self.n_digits_after_comma = n_digits_after_comma\n",
    "        self.randomize()\n",
    "        self.correct_answer = self.calculate_answer()\n",
    "        self.wrong_answers = self.generate_wrong_answers()\n",
    "\n",
    "    def randomize(self):\n",
    "        self.number = (\n",
    "            np.random.randint(1, 10**self.n_digits_before_comma)\n",
    "            + np.random.randint(1, 10**self.n_digits_before_comma)\n",
    "            / 10**self.n_digits_after_comma\n",
    "        )\n",
    "\n",
    "    def calculate_answer(self):\n",
    "        return sci_not(self.number)\n",
    "\n",
    "    def generate_text(self):\n",
    "        return f\"{self.number} = ...\"\n",
    "\n",
    "    def generate_wrong_answers(self):\n",
    "        answers = []\n",
    "\n",
    "        for i in range(self.n_answers - 1):\n",
    "            new_factor = np.power(10, np.random.randint(1, 5))\n",
    "            if np.random.choice([True, False]):\n",
    "                new_factor = 1 / new_factor\n",
    "\n",
    "            new_number = self.number * new_factor\n",
    "            new_answer = sci_not(new_number)\n",
    "            while new_answer in answers or new_number == self.number:\n",
    "                new_factor = np.power(10, np.random.randint(1, 5))\n",
    "                if np.random.choice([True, False]):\n",
    "                    new_factor = 1 / new_factor\n",
    "\n",
    "                new_number = self.number * new_factor\n",
    "                new_answer = sci_not(new_number)\n",
    "\n",
    "            answers.append(new_answer)\n",
    "\n",
    "        return answers"
   ]
  },
  {
   "cell_type": "code",
   "execution_count": 24,
   "metadata": {},
   "outputs": [
    {
     "data": {
      "text/plain": [
       "{'საკითხები': ['ALGEBRA-4.2', '2022-1', '2022-2'],\n",
       " 'ტექსტი': '30.65 = ...',\n",
       " 'სავარაუდო პასუხები': {'ა': '3.065 × 10^1',\n",
       "  'ბ': '3.065 × 10^5',\n",
       "  'გ': '3.065 × 10^-1',\n",
       "  'დ': '3.065 × 10^-3'},\n",
       " 'სწორი პასუხი': 'ა'}"
      ]
     },
     "execution_count": 24,
     "metadata": {},
     "output_type": "execute_result"
    }
   ],
   "source": [
    "SN1 = ScientificNotation1()\n",
    "SN1.generate_text_and_choices()"
   ]
  },
  {
   "cell_type": "code",
   "execution_count": 25,
   "metadata": {},
   "outputs": [],
   "source": [
    "class Units1(MultipleChoice):\n",
    "    def __init__(self, n_maximum=500, n_answers=4):\n",
    "        super().__init__(n_answers=n_answers)\n",
    "        self.keys = [\"UNITS-1.1\"]\n",
    "        self.n_maximum = n_maximum\n",
    "        self.units = {\n",
    "            \"მმ\": 1e-3,\n",
    "            \"სმ\": 1e-2,\n",
    "            \"დმ\": 1e-1,\n",
    "            \"მ\": 1,\n",
    "            \"კმ\": 10e3,\n",
    "        }\n",
    "        self.randomize()\n",
    "        self.correct_answer = self.calculate_answer()\n",
    "        self.wrong_answers = self.generate_wrong_answers()\n",
    "\n",
    "    def random_unit(self):\n",
    "        return np.random.choice(list(self.units.keys()))\n",
    "    \n",
    "    def to_string(self, number, unit):\n",
    "        return f\"{sci_not(number)} {unit}\"\n",
    "\n",
    "    def randomize(self):\n",
    "        self.number = np.random.randint(1, self.n_maximum)\n",
    "        self.unit = self.random_unit()\n",
    "        \n",
    "    def calculate_answer(self):\n",
    "        new_unit = self.random_unit()\n",
    "        while new_unit == self.unit:\n",
    "            new_unit = self.random_unit()\n",
    "        new_number = self.number * self.units[self.unit] / self.units[new_unit]\n",
    "        return self.to_string(new_number, new_unit)\n",
    "\n",
    "    \n",
    "    def generate_text(self):\n",
    "        return f\"{self.number} {self.unit} = ...\"\n",
    "    \n",
    "    def generate_wrong_answers(self):\n",
    "        answers = []\n",
    "\n",
    "        for i in range(self.n_answers-1):\n",
    "            new_unit = self.random_unit()\n",
    "            while new_unit == self.unit:\n",
    "                new_unit = self.random_unit()\n",
    "            new_number = self.number * self.units[self.unit] / self.units[new_unit]\n",
    "            new_factor = np.power(10, np.random.randint(1,3))\n",
    "            if np.random.choice([True,False]):\n",
    "                new_factor = 1 / new_factor\n",
    "            new_number *= new_factor\n",
    "            new_answer = self.to_string(new_number, new_unit)\n",
    "            while new_answer in answers or new_number == self.number:\n",
    "                new_unit = self.random_unit()\n",
    "                while new_unit == self.unit:\n",
    "                    new_unit = self.random_unit()\n",
    "                new_number = self.number * self.units[self.unit] / self.units[new_unit]\n",
    "                new_factor = np.power(10, np.random.randint(1,3))\n",
    "                if np.random.choice([True,False]):\n",
    "                    new_factor = 1 / new_factor\n",
    "                new_number *= new_factor\n",
    "                new_answer = self.to_string(new_number, new_unit)\n",
    "                \n",
    "            answers.append(new_answer)\n",
    "            \n",
    "        return answers\n",
    "    \n",
    "\n",
    "class UnitsLength1(Units1):\n",
    "    def __init__(self, n_maximum=500, n_answers=4):\n",
    "        super().__init__(n_maximum=n_maximum, n_answers=n_answers)\n",
    "        self.keys = [\"UNITS-1.1\"]\n",
    "        self.units = {\n",
    "            \"მმ\": 1e-3,\n",
    "            \"სმ\": 1e-2,\n",
    "            \"დმ\": 1e-1,\n",
    "            \"მ\": 1,\n",
    "            \"კმ\": 10e3,\n",
    "        }\n",
    "        self.randomize()\n",
    "        self.correct_answer = self.calculate_answer()\n",
    "        self.wrong_answers = self.generate_wrong_answers()\n",
    "\n",
    "\n",
    "class UnitsLength1(Units1):\n",
    "    def __init__(self, n_maximum=500, n_answers=4):\n",
    "        super().__init__(n_maximum=n_maximum, n_answers=n_answers)\n",
    "        self.keys = [\"UNITS-1.1\"]\n",
    "        self.units = {\n",
    "            \"მმ\": 1e-3,\n",
    "            \"სმ\": 1e-2,\n",
    "            \"დმ\": 1e-1,\n",
    "            \"მ\": 1,\n",
    "            \"კმ\": 10e3,\n",
    "        }\n",
    "        self.randomize()\n",
    "        self.correct_answer = self.calculate_answer()\n",
    "        self.wrong_answers = self.generate_wrong_answers()\n",
    "\n",
    "class UnitsArea1(Units1):\n",
    "    def __init__(self, n_maximum=500, n_answers=4):\n",
    "        super().__init__(n_maximum=n_maximum, n_answers=n_answers)\n",
    "        self.keys = [\"UNITS-1.2\"]\n",
    "        self.units = {\n",
    "            \"კვადრატული მმ\": 1e-3**2,\n",
    "            \"კვადრატული სმ\": 1e-2**2,\n",
    "            \"კვადრატული დმ\": 1e-1**2,\n",
    "            \"კვადრატული მ\": 1**2,\n",
    "            \"კვადრატული კმ\": 10e3**2,\n",
    "        }\n",
    "        self.randomize()\n",
    "        self.correct_answer = self.calculate_answer()\n",
    "        self.wrong_answers = self.generate_wrong_answers()\n",
    "\n",
    "class UnitsVolume1(Units1):\n",
    "    def __init__(self, n_maximum=500, n_answers=4):\n",
    "        super().__init__(n_maximum=n_maximum, n_answers=n_answers)\n",
    "        self.keys = [\"UNITS-1.3\"]\n",
    "        self.units = {\n",
    "            \"კუბური მმ\": 1e-3**3,\n",
    "            \"კუბური სმ\": 1e-2**3,\n",
    "            \"კუბური დმ\": 1e-1**3,\n",
    "            \"ლიტრი\": 1e-1**3,\n",
    "            \"კუბური მ\": 1**3,\n",
    "            \"კუბური კმ\": 10e3**3,\n",
    "        }\n",
    "        self.randomize()\n",
    "        self.correct_answer = self.calculate_answer()\n",
    "        self.wrong_answers = self.generate_wrong_answers()\n",
    "\n",
    "class UnitsMass1(Units1):\n",
    "    def __init__(self, n_maximum=500, n_answers=4):\n",
    "        super().__init__(n_maximum=n_maximum, n_answers=n_answers)\n",
    "        self.keys = [\"UNITS-1.4\"]\n",
    "        self.units = {\n",
    "            \"გრამი\": 1e-3,\n",
    "            \"კილოგრამი\": 1,\n",
    "            \"ცენტნერი\": 1e2,\n",
    "            \"ტონა\": 1e3,\n",
    "        }\n",
    "        self.randomize()\n",
    "        self.correct_answer = self.calculate_answer()\n",
    "        self.wrong_answers = self.generate_wrong_answers()\n",
    "\n",
    "class UnitsTime1(Units1):\n",
    "    def __init__(self, n_maximum=500, n_answers=4):\n",
    "        super().__init__(n_maximum=n_maximum, n_answers=n_answers)\n",
    "        self.keys = [\"UNITS-1.5\"]\n",
    "        self.units = {\n",
    "            \"წამი\": 1,\n",
    "            \"წუთი\": 60,\n",
    "            \"საათი\": 60*60,\n",
    "        }\n",
    "        self.randomize()\n",
    "        self.correct_answer = self.calculate_answer()\n",
    "        self.wrong_answers = self.generate_wrong_answers()"
   ]
  },
  {
   "cell_type": "code",
   "execution_count": 26,
   "metadata": {},
   "outputs": [
    {
     "data": {
      "text/plain": [
       "{'საკითხები': ['UNITS-1.1'],\n",
       " 'ტექსტი': '351 მ = ...',\n",
       " 'სავარაუდო პასუხები': {'ა': '3.51 × 10^6 მმ',\n",
       "  'ბ': '3.51 × 10^1 დმ',\n",
       "  'გ': '3.51 × 10^3 მმ',\n",
       "  'დ': '3.51 × 10^-2 კმ'},\n",
       " 'სწორი პასუხი': 'დ'}"
      ]
     },
     "execution_count": 26,
     "metadata": {},
     "output_type": "execute_result"
    }
   ],
   "source": [
    "UL1 = UnitsLength1()\n",
    "UL1.generate_text_and_choices()"
   ]
  },
  {
   "cell_type": "code",
   "execution_count": 27,
   "metadata": {},
   "outputs": [
    {
     "data": {
      "text/plain": [
       "{'საკითხები': ['UNITS-1.2'],\n",
       " 'ტექსტი': '139 კვადრატული მ = ...',\n",
       " 'სავარაუდო პასუხები': {'ა': '1.39 × 10^4 კვადრატული დმ',\n",
       "  'ბ': '1.39 × 10^2 კვადრატული დმ',\n",
       "  'გ': '1.39 × 10^-8 კვადრატული კმ',\n",
       "  'დ': '1.39 × 10^-5 კვადრატული კმ'},\n",
       " 'სწორი პასუხი': 'ა'}"
      ]
     },
     "execution_count": 27,
     "metadata": {},
     "output_type": "execute_result"
    }
   ],
   "source": [
    "UA1 = UnitsArea1()\n",
    "UA1.generate_text_and_choices()"
   ]
  },
  {
   "cell_type": "code",
   "execution_count": 28,
   "metadata": {},
   "outputs": [
    {
     "data": {
      "text/plain": [
       "{'საკითხები': ['UNITS-1.3'],\n",
       " 'ტექსტი': '223 კუბური მმ = ...',\n",
       " 'სავარაუდო პასუხები': {'ა': '2.23 × 10^-3 ლიტრი',\n",
       "  'ბ': '2.23 × 10^-3 კუბური სმ',\n",
       "  'გ': '2.23 × 10^-6 ლიტრი',\n",
       "  'დ': '2.23 × 10^-1 კუბური სმ'},\n",
       " 'სწორი პასუხი': 'დ'}"
      ]
     },
     "execution_count": 28,
     "metadata": {},
     "output_type": "execute_result"
    }
   ],
   "source": [
    "UV1 = UnitsVolume1()\n",
    "UV1.generate_text_and_choices()"
   ]
  },
  {
   "cell_type": "code",
   "execution_count": 29,
   "metadata": {},
   "outputs": [
    {
     "data": {
      "text/plain": [
       "{'საკითხები': ['UNITS-1.4'],\n",
       " 'ტექსტი': '157 გრამი = ...',\n",
       " 'სავარაუდო პასუხები': {'ა': '1.57 × 10^-1 ცენტნერი',\n",
       "  'ბ': '1.57 × 10^-1 კილოგრამი',\n",
       "  'გ': '1.57 × 10^-3 ტონა',\n",
       "  'დ': '1.57 × 10^-4 ცენტნერი'},\n",
       " 'სწორი პასუხი': 'ბ'}"
      ]
     },
     "execution_count": 29,
     "metadata": {},
     "output_type": "execute_result"
    }
   ],
   "source": [
    "UM1 = UnitsMass1()\n",
    "UM1.generate_text_and_choices()"
   ]
  },
  {
   "cell_type": "code",
   "execution_count": 30,
   "metadata": {},
   "outputs": [
    {
     "data": {
      "text/plain": [
       "{'საკითხები': ['UNITS-1.5'],\n",
       " 'ტექსტი': '62 წამი = ...',\n",
       " 'სავარაუდო პასუხები': {'ა': '1.0333333333 × 10^-1 წუთი',\n",
       "  'ბ': '1.0333333333 × 10^2 წუთი',\n",
       "  'გ': '1.7222222222 × 10^-2 საათი',\n",
       "  'დ': '1.7222222222 საათი'},\n",
       " 'სწორი პასუხი': 'გ'}"
      ]
     },
     "execution_count": 30,
     "metadata": {},
     "output_type": "execute_result"
    }
   ],
   "source": [
    "UT1 = UnitsTime1()\n",
    "UT1.generate_text_and_choices()"
   ]
  },
  {
   "cell_type": "code",
   "execution_count": null,
   "metadata": {},
   "outputs": [],
   "source": []
  }
 ],
 "metadata": {
  "kernelspec": {
   "display_name": "Python 3",
   "language": "python",
   "name": "python3"
  },
  "language_info": {
   "codemirror_mode": {
    "name": "ipython",
    "version": 3
   },
   "file_extension": ".py",
   "mimetype": "text/x-python",
   "name": "python",
   "nbconvert_exporter": "python",
   "pygments_lexer": "ipython3",
   "version": "3.11.4"
  }
 },
 "nbformat": 4,
 "nbformat_minor": 2
}
