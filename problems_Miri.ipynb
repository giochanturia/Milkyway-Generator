{
 "cells": [
  {
   "cell_type": "code",
   "execution_count": 2,
   "metadata": {},
   "outputs": [],
   "source": [
    "import numpy as np\n",
    "import random"
   ]
  },
  {
   "cell_type": "markdown",
   "metadata": {},
   "source": [
    "# Example and Organising:"
   ]
  },
  {
   "cell_type": "code",
   "execution_count": 72,
   "metadata": {},
   "outputs": [],
   "source": [
    "random.shuffle([1,2,3])"
   ]
  },
  {
   "cell_type": "code",
   "execution_count": 7,
   "metadata": {},
   "outputs": [],
   "source": [
    "choice_letters = \"ABCDEFGHIJKLMNOPQRSTUVWXYZ\"\n",
    "\n",
    "class MultipleChoice:\n",
    "    def __init__(self, n_answers=4):\n",
    "        self.n_answers = n_answers\n",
    "        self.correct_answer = 0\n",
    "        self.wrong_answers = range(1, n_answers)\n",
    "\n",
    "    def generate_multiple_choices(self):\n",
    "        all_answers = [self.correct_answer, *self.wrong_answers]\n",
    "        random.shuffle(all_answers)\n",
    "        multiple_choices = {}\n",
    "        correct_choice = \"\"\n",
    "        for i,a in enumerate(all_answers):\n",
    "            multiple_choices[choice_letters[i]] = a\n",
    "            if a == self.correct_answer:\n",
    "                correct_choice = choice_letters[i]\n",
    "        return multiple_choices, correct_choice\n",
    "\n",
    "class OpenPolygon1(MultipleChoice):\n",
    "    def __init__(self, n_points, n_dimension, n_answers=4):\n",
    "        super().__init__(n_answers=n_answers)\n",
    "        self.n_points = n_points\n",
    "        self.n_dimension = n_dimension\n",
    "        self.n_answers = n_answers\n",
    "        self.randomize_and_calculate()\n",
    "        self.correct_answer = self.calculate_answer()\n",
    "        self.wrong_answers = self.generate_wrong_answers()\n",
    "\n",
    "    def randomize_and_calculate(self):\n",
    "        self.points = []\n",
    "        for i in range(self.n_points):\n",
    "            p = [np.random.randint(-20, 20) for d in range(self.n_dimension)]\n",
    "            while p in self.points:\n",
    "                print(\"ha!\")\n",
    "                p = [np.random.randint(-20, 20) for d in range(self.n_dimension)]\n",
    "            self.points.append(p)\n",
    "\n",
    "    def generate_text(self):\n",
    "        return f\"We have an open polygon across points {tuple(self.points)}. Calculate the total length.\"\n",
    "\n",
    "    def calculate_answer(self):\n",
    "        result = 0\n",
    "        for i in range(len(self.points) - 1):\n",
    "            p_i = np.array(self.points[i])\n",
    "            p_ip1 = np.array(self.points[i+1])\n",
    "            distance = np.round(np.sqrt(np.sum((p_i - p_ip1)**2)),1)\n",
    "            print(f\"distance between {p_i} and {p_ip1} is {distance}\")\n",
    "            result += distance\n",
    "\n",
    "        return np.round(result, 1)\n",
    "    \n",
    "    def generate_wrong_answers(self):\n",
    "        answers = []\n",
    "        for i in range(self.n_answers-1):\n",
    "            wrong_answer = self.correct_answer + np.random.choice([-1,1]) * np.random.randint(10,200) / 10.0\n",
    "            while wrong_answer in answers:\n",
    "                wrong_answer = self.correct_answer + np.random.choice([-1,1]) * np.random.randint(10,200) / 10.0\n",
    "            answers.append(np.round(wrong_answer,1))\n",
    "        return answers\n"
   ]
  },
  {
   "cell_type": "code",
   "execution_count": 100,
   "metadata": {},
   "outputs": [
    {
     "name": "stdout",
     "output_type": "stream",
     "text": [
      "distance between [-3 -1] and [-11  14] is 17.0\n",
      "distance between [-11  14] and [ 10 -12] is 33.4\n"
     ]
    }
   ],
   "source": [
    "OP1 = OpenPolygon1(3, 2, n_answers=4)"
   ]
  },
  {
   "cell_type": "code",
   "execution_count": 101,
   "metadata": {},
   "outputs": [
    {
     "data": {
      "text/plain": [
       "50.4"
      ]
     },
     "execution_count": 101,
     "metadata": {},
     "output_type": "execute_result"
    }
   ],
   "source": [
    "OP1.correct_answer"
   ]
  },
  {
   "cell_type": "code",
   "execution_count": 102,
   "metadata": {},
   "outputs": [
    {
     "data": {
      "text/plain": [
       "[33.5, 67.1, 31.0]"
      ]
     },
     "execution_count": 102,
     "metadata": {},
     "output_type": "execute_result"
    }
   ],
   "source": [
    "OP1.wrong_answers"
   ]
  },
  {
   "cell_type": "code",
   "execution_count": 103,
   "metadata": {},
   "outputs": [
    {
     "data": {
      "text/plain": [
       "({'A': 33.5, 'B': 50.4, 'C': 67.1, 'D': 31.0}, 'B')"
      ]
     },
     "execution_count": 103,
     "metadata": {},
     "output_type": "execute_result"
    }
   ],
   "source": [
    "OP1.generate_multiple_choices()"
   ]
  },
  {
   "cell_type": "markdown",
   "metadata": {},
   "source": [
    "# Problems:"
   ]
  },
  {
   "cell_type": "markdown",
   "metadata": {},
   "source": [
    "class Angle_in_Degrees1(MultipleChoice):\n",
    "    def __init__(self, n_answers=4):\n",
    "        super().__init__(n_answers=n_answers)\n",
    "        self.keys = [\"GEO2D-3.2\"]\n",
    "\n",
    "        self.randomize()\n",
    "        self.correct_answer = self.calculate_answer()\n",
    "        self.wrong_answers = self.generate_wrong_answers()\n",
    "        \n",
    "    def randomize(self):\n",
    "\n",
    "\n",
    "    def generate_text(self):\n",
    "\n",
    "    \n",
    "    def calculate_answer(self):\n",
    "\n",
    "\n",
    "    def generate_wrong_answers(self):\n",
    "        answers = []\n",
    "        for i in range(self.n_answers-1):\n",
    "            wrong_answer = self.correct_answer + np.random.choice([-1,1]) * np.random.randint(10,200) / 10.0\n",
    "            while wrong_answer in answers:\n",
    "                wrong_answer = self.correct_answer + np.random.choice([-1,1]) * np.random.randint(10,200) / 10.0\n",
    "            answers.append(np.round(wrong_answer,1))\n",
    "        return answers\n",
    "\n",
    "\n",
    "    "
   ]
  },
  {
   "cell_type": "code",
   "execution_count": null,
   "metadata": {},
   "outputs": [],
   "source": [
    "cl = Ac_Perp_Wide()\n",
    "print(cl.correct_answer)\n",
    "print(cl.generate_text())\n",
    "print(cl.wrong_answers)\n",
    "print(cl.generate_multiple_choices())"
   ]
  },
  {
   "cell_type": "markdown",
   "metadata": {},
   "source": [
    "## Clock:"
   ]
  },
  {
   "cell_type": "code",
   "execution_count": 54,
   "metadata": {},
   "outputs": [],
   "source": [
    "class Clock(MultipleChoice):\n",
    "    def __init__(self, n_answers=4):\n",
    "        super().__init__(n_answers=n_answers)\n",
    "        self.keys = [\"GEO2D-3.2\"]\n",
    "\n",
    "        self.randomize()\n",
    "        self.correct_answer = self.calculate_answer()\n",
    "        self.wrong_answers = self.generate_wrong_answers()\n",
    "        \n",
    "    def randomize(self):\n",
    "        self.hour = np.random.randint(1, 13)\n",
    "        self.minute = np.random.randint(0, 12)*5\n",
    "\n",
    "    def generate_text(self):\n",
    "        return f\"An analogue clock says the time {self.hour}:{self.minute}. What is the angle between the two clock hands in degrees?\"\n",
    "    \n",
    "    def calculate_answer(self):\n",
    "        angle_min = self.minute*360/60\n",
    "        angle_h = self.hour*360/12 + angle_min/12\n",
    "        angle = np.abs(angle_min - angle_h)\n",
    "        correct_answer = np.min([angle, 360 - angle])\n",
    "        return np.round(correct_answer, 1)\n",
    "\n",
    "    def generate_wrong_answers(self):\n",
    "        answers = []\n",
    "        for i in range(self.n_answers-1):\n",
    "            wrong_answer = np.random.randint(0,720)/2\n",
    "            while (wrong_answer in answers) | (wrong_answer == self.correct_answer):\n",
    "                wrong_answer = self.correct_answer + np.random.choice([-1,1]) * np.random.randint(10,200) / 10.0\n",
    "            answers.append(np.round(wrong_answer,1))\n",
    "        return answers\n",
    "                \n",
    "\n",
    "    "
   ]
  },
  {
   "cell_type": "code",
   "execution_count": null,
   "metadata": {},
   "outputs": [],
   "source": []
  },
  {
   "cell_type": "markdown",
   "metadata": {},
   "source": [
    "## Acute, perpendicular, wide:"
   ]
  },
  {
   "cell_type": "code",
   "execution_count": 180,
   "metadata": {},
   "outputs": [],
   "source": [
    "class Ac_Perp_Wide(MultipleChoice):\n",
    "    def __init__(self, n_answers=4):\n",
    "        super().__init__(n_answers=n_answers)\n",
    "        self.keys = [\"GEO2D-3.3\", \"GEO2D-12.1\"]\n",
    "        \n",
    "        self.randomize()\n",
    "        self.correct_answer = self.calculate_answer()\n",
    "        self.wrong_answers = self.generate_wrong_answers()\n",
    "        \n",
    "    def randomize(self):\n",
    "        self.perpendicular = np.random.randint(0,5)\n",
    "        self.base = np.random.randint(1, 301)/10\n",
    "        self.height = np.random.randint(1, 151)/10\n",
    "\n",
    "    def generate_text(self):\n",
    "        return f\"Consider an isosceles triangle of baselength {self.base}cm and a height of {self.height}cm. Is the angle opposite the base acute, perpendicular or wide?\"\n",
    "    \n",
    "    def calculate_answer(self):\n",
    "        if self.perpendicular == 0:\n",
    "            self.base = np.round(2*self.height*np.tan(np.pi/4), 1)\n",
    "            return \"perpendicular\"\n",
    "\n",
    "        else:\n",
    "            angle = 2*np.arctan(self.base/(2*self.height))\n",
    "            if angle > np.pi/2:\n",
    "                return \"wide\"\n",
    "            elif angle < np.pi/2:\n",
    "                return \"acute\"\n",
    "            else:\n",
    "                return \"Error\"\n",
    "\n",
    "    def generate_wrong_answers(self):\n",
    "        possible_answers = [\"acute\", \"perpendicular\", \"wide\", \"neither\"]\n",
    "        answers = []\n",
    "        for i in range(3):\n",
    "            random_index = np.random.randint(0,4)\n",
    "            wrong_answer = possible_answers[random_index]\n",
    "            while (wrong_answer in answers) | (wrong_answer == self.correct_answer):\n",
    "                random_index = np.random.randint(0,4)\n",
    "                wrong_answer = possible_answers[random_index]\n",
    "            answers.append(wrong_answer)\n",
    "        return answers"
   ]
  },
  {
   "cell_type": "code",
   "execution_count": 201,
   "metadata": {},
   "outputs": [
    {
     "name": "stdout",
     "output_type": "stream",
     "text": [
      "acute\n",
      "Consider an isosceles triangle of baselength 9.2cm and a height of 14.8cm. Is the angle opposite the base acute, perpendicular or wide?\n",
      "['perpendicular', 'neither', 'wide']\n",
      "({'A': 'wide', 'B': 'neither', 'C': 'acute', 'D': 'perpendicular'}, 'C')\n"
     ]
    }
   ],
   "source": [
    "cl = Ac_Perp_Wide()\n",
    "print(cl.correct_answer)\n",
    "print(cl.generate_text())\n",
    "print(cl.wrong_answers)\n",
    "print(cl.generate_multiple_choices())"
   ]
  },
  {
   "cell_type": "code",
   "execution_count": null,
   "metadata": {},
   "outputs": [],
   "source": []
  },
  {
   "cell_type": "markdown",
   "metadata": {},
   "source": [
    "## Thales"
   ]
  },
  {
   "cell_type": "code",
   "execution_count": null,
   "metadata": {},
   "outputs": [],
   "source": [
    "GEO2D-22.1"
   ]
  },
  {
   "cell_type": "code",
   "execution_count": 210,
   "metadata": {},
   "outputs": [],
   "source": [
    "class Thales1(MultipleChoice):\n",
    "    def __init__(self, n_answers=4):\n",
    "        super().__init__(n_answers=n_answers)\n",
    "        self.keys = [\"GEO2D-22.1\"]\n",
    "\n",
    "        self.randomize()\n",
    "        self.correct_answer = self.calculate_answer()\n",
    "        self.wrong_answers = self.generate_wrong_answers()\n",
    "        \n",
    "    def randomize(self):\n",
    "        self.base = np.random.randint(1, 31)\n",
    "\n",
    "    def generate_text(self):\n",
    "        return f\"Consider a rectangular triangle with a baselength of {self.base}cm. How far away is the vertex opposite to the base from its midpoint?\"\n",
    "    \n",
    "    def calculate_answer(self):\n",
    "        return np.round(self.base/2.0, 1)\n",
    "\n",
    "    def generate_wrong_answers(self):\n",
    "        answers = []\n",
    "        for i in range(self.n_answers-1):\n",
    "            wrong_answer = self.correct_answer + np.random.choice([-1,1]) * np.random.randint(10,30) / 2.0\n",
    "            while wrong_answer in answers:\n",
    "                wrong_answer = self.correct_answer + np.random.choice([-1,1]) * np.random.randint(10,30) / 2.0\n",
    "            answers.append(np.round(wrong_answer,1))\n",
    "        return answers\n",
    "\n",
    "\n",
    "    "
   ]
  },
  {
   "cell_type": "code",
   "execution_count": 215,
   "metadata": {},
   "outputs": [
    {
     "name": "stdout",
     "output_type": "stream",
     "text": [
      "3.5\n",
      "Consider a rectangular triangle with a baselength of 7cm. How far away is the vertex opposite to the base from its midpoint?\n",
      "[-1.5, -10.0, -2.5]\n",
      "({'A': -1.5, 'B': -2.5, 'C': -10.0, 'D': 3.5}, 'D')\n"
     ]
    }
   ],
   "source": [
    "cl = Thales1()\n",
    "print(cl.correct_answer)\n",
    "print(cl.generate_text())\n",
    "print(cl.wrong_answers)\n",
    "print(cl.generate_multiple_choices())"
   ]
  },
  {
   "cell_type": "markdown",
   "metadata": {},
   "source": [
    "## Bisector of an angle"
   ]
  },
  {
   "cell_type": "markdown",
   "metadata": {},
   "source": [
    "# Parallel lines (complete coordinates)"
   ]
  },
  {
   "cell_type": "markdown",
   "metadata": {},
   "source": []
  }
 ],
 "metadata": {
  "kernelspec": {
   "display_name": "Python 3",
   "language": "python",
   "name": "python3"
  },
  "language_info": {
   "codemirror_mode": {
    "name": "ipython",
    "version": 3
   },
   "file_extension": ".py",
   "mimetype": "text/x-python",
   "name": "python",
   "nbconvert_exporter": "python",
   "pygments_lexer": "ipython3",
   "version": "3.11.3"
  }
 },
 "nbformat": 4,
 "nbformat_minor": 2
}
